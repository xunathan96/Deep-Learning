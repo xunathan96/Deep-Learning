{
 "cells": [
  {
   "cell_type": "markdown",
   "metadata": {},
   "source": [
    "## Homework-3: MNIST Classification with ConvNet\n",
    "\n",
    "### **Deadline: 2020.04.07 11:59:00 AM**\n",
    "\n",
    "### In this homework, you need to\n",
    "- #### implement forward and backward for ConvLayer (`layers/conv_layer.py`)\n",
    "- #### implement forward and backward for PoolingLayer (`layers/pooling_layer.py`)\n",
    "- #### implement forward and backward for DropoutLayer (`layers/dropout_layer.py`)"
   ]
  },
  {
   "cell_type": "code",
   "execution_count": 1,
   "metadata": {},
   "outputs": [],
   "source": [
    "import numpy as np\n",
    "import matplotlib.pyplot as plt\n",
    "%matplotlib inline\n",
    "import tensorflow.compat.v1 as tf\n",
    "tf.disable_eager_execution()\n",
    "\n",
    "from network import Network\n",
    "from solver import train, test\n",
    "from plot import plot_loss_and_acc"
   ]
  },
  {
   "cell_type": "markdown",
   "metadata": {},
   "source": [
    "## Load MNIST Dataset\n",
    "We use tensorflow tools to load dataset for convenience."
   ]
  },
  {
   "cell_type": "code",
   "execution_count": 2,
   "metadata": {},
   "outputs": [],
   "source": [
    "(x_train, y_train), (x_test, y_test) = tf.keras.datasets.mnist.load_data()"
   ]
  },
  {
   "cell_type": "code",
   "execution_count": 3,
   "metadata": {},
   "outputs": [],
   "source": [
    "def decode_image(image):\n",
    "    # Normalize from [0, 255.] to [0., 1.0], and then subtract by the mean value\n",
    "    image = tf.cast(image, tf.float32)\n",
    "    image = tf.reshape(image, [1, 28, 28])\n",
    "    image = image / 255.0\n",
    "    image = image - tf.reduce_mean(image)\n",
    "    return image\n",
    "\n",
    "def decode_label(label):\n",
    "    # Encode label with one-hot encoding\n",
    "    return tf.one_hot(label, depth=10)"
   ]
  },
  {
   "cell_type": "code",
   "execution_count": 4,
   "metadata": {},
   "outputs": [],
   "source": [
    "# Data Preprocessing\n",
    "x_train = tf.data.Dataset.from_tensor_slices(x_train).map(decode_image)\n",
    "y_train = tf.data.Dataset.from_tensor_slices(y_train).map(decode_label)\n",
    "data_train = tf.data.Dataset.zip((x_train, y_train))\n",
    "x_test = tf.data.Dataset.from_tensor_slices(x_test).map(decode_image)\n",
    "y_test = tf.data.Dataset.from_tensor_slices(y_test).map(decode_label)\n",
    "data_test = tf.data.Dataset.zip((x_test, y_test))"
   ]
  },
  {
   "cell_type": "markdown",
   "metadata": {},
   "source": [
    "## Set Hyperparameters\n",
    "You can modify hyperparameters by yourself."
   ]
  },
  {
   "cell_type": "code",
   "execution_count": 5,
   "metadata": {},
   "outputs": [],
   "source": [
    "batch_size = 100\n",
    "max_epoch = 10\n",
    "init_std = 0.01\n",
    "\n",
    "learning_rate = 0.001\n",
    "weight_decay = 0.005\n",
    "\n",
    "disp_freq = 50"
   ]
  },
  {
   "cell_type": "markdown",
   "metadata": {},
   "source": [
    "## Criterion and Optimizer"
   ]
  },
  {
   "cell_type": "code",
   "execution_count": 6,
   "metadata": {},
   "outputs": [],
   "source": [
    "from criterion import SoftmaxCrossEntropyLossLayer\n",
    "from optimizer import SGD\n",
    "\n",
    "criterion = SoftmaxCrossEntropyLossLayer()\n",
    "sgd = SGD(learning_rate, weight_decay)"
   ]
  },
  {
   "cell_type": "markdown",
   "metadata": {},
   "source": [
    "## ConvNet"
   ]
  },
  {
   "cell_type": "code",
   "execution_count": 7,
   "metadata": {},
   "outputs": [],
   "source": [
    "from layers import FCLayer, ReLULayer, ConvLayer, MaxPoolingLayer, ReshapeLayer\n",
    "\n",
    "convNet = Network()\n",
    "convNet.add(ConvLayer(1, 8, 3, 1))\n",
    "convNet.add(ReLULayer())\n",
    "convNet.add(MaxPoolingLayer(2, 0))\n",
    "convNet.add(ConvLayer(8, 16, 3, 1))\n",
    "convNet.add(ReLULayer())\n",
    "convNet.add(MaxPoolingLayer(2, 0))\n",
    "convNet.add(ReshapeLayer((batch_size, 16, 7, 7), (batch_size, 784)))\n",
    "convNet.add(FCLayer(784, 128))\n",
    "convNet.add(ReLULayer())\n",
    "convNet.add(FCLayer(128, 10))"
   ]
  },
  {
   "cell_type": "code",
   "execution_count": 8,
   "metadata": {
    "scrolled": true
   },
   "outputs": [
    {
     "name": "stdout",
     "output_type": "stream",
     "text": [
      "WARNING:tensorflow:From C:\\Users\\Nate\\Desktop\\Deep Learning\\homework-3\\solver.py:15: DatasetV1.make_one_shot_iterator (from tensorflow.python.data.ops.dataset_ops) is deprecated and will be removed in a future version.\n",
      "Instructions for updating:\n",
      "Use `for ... in dataset:` to iterate over a dataset. If using `tf.estimator`, return the `Dataset` object directly from your input function. As a last resort, you can use `tf.compat.v1.data.make_one_shot_iterator(dataset)`.\n",
      "Epoch [0][10]\t Batch [0][550]\t Training Loss 6.4679\t Accuracy 0.0900\n",
      "Epoch [0][10]\t Batch [50][550]\t Training Loss 2.6648\t Accuracy 0.2245\n",
      "Epoch [0][10]\t Batch [100][550]\t Training Loss 2.2636\t Accuracy 0.2851\n",
      "Epoch [0][10]\t Batch [150][550]\t Training Loss 2.0715\t Accuracy 0.3289\n",
      "Epoch [0][10]\t Batch [200][550]\t Training Loss 1.9322\t Accuracy 0.3685\n",
      "Epoch [0][10]\t Batch [250][550]\t Training Loss 1.8216\t Accuracy 0.4031\n",
      "Epoch [0][10]\t Batch [300][550]\t Training Loss 1.7352\t Accuracy 0.4312\n",
      "Epoch [0][10]\t Batch [350][550]\t Training Loss 1.6637\t Accuracy 0.4570\n",
      "Epoch [0][10]\t Batch [400][550]\t Training Loss 1.5953\t Accuracy 0.4816\n",
      "Epoch [0][10]\t Batch [450][550]\t Training Loss 1.5381\t Accuracy 0.5027\n",
      "Epoch [0][10]\t Batch [500][550]\t Training Loss 1.4861\t Accuracy 0.5219\n",
      "\n",
      "Epoch [0]\t Average training loss 1.4389\t Average training accuracy 0.5394\n",
      "Epoch [0]\t Average validation loss 0.8542\t Average validation accuracy 0.7688\n",
      "\n",
      "Epoch [1][10]\t Batch [0][550]\t Training Loss 0.8644\t Accuracy 0.7900\n",
      "Epoch [1][10]\t Batch [50][550]\t Training Loss 0.8986\t Accuracy 0.7386\n",
      "Epoch [1][10]\t Batch [100][550]\t Training Loss 0.8773\t Accuracy 0.7472\n",
      "Epoch [1][10]\t Batch [150][550]\t Training Loss 0.8747\t Accuracy 0.7460\n",
      "Epoch [1][10]\t Batch [200][550]\t Training Loss 0.8596\t Accuracy 0.7520\n",
      "Epoch [1][10]\t Batch [250][550]\t Training Loss 0.8416\t Accuracy 0.7598\n",
      "Epoch [1][10]\t Batch [300][550]\t Training Loss 0.8308\t Accuracy 0.7628\n",
      "Epoch [1][10]\t Batch [350][550]\t Training Loss 0.8227\t Accuracy 0.7648\n",
      "Epoch [1][10]\t Batch [400][550]\t Training Loss 0.8087\t Accuracy 0.7687\n",
      "Epoch [1][10]\t Batch [450][550]\t Training Loss 0.7979\t Accuracy 0.7729\n",
      "Epoch [1][10]\t Batch [500][550]\t Training Loss 0.7875\t Accuracy 0.7763\n",
      "\n",
      "Epoch [1]\t Average training loss 0.7764\t Average training accuracy 0.7805\n",
      "Epoch [1]\t Average validation loss 0.5728\t Average validation accuracy 0.8530\n",
      "\n",
      "Epoch [2][10]\t Batch [0][550]\t Training Loss 0.6088\t Accuracy 0.8900\n",
      "Epoch [2][10]\t Batch [50][550]\t Training Loss 0.6299\t Accuracy 0.8253\n",
      "Epoch [2][10]\t Batch [100][550]\t Training Loss 0.6257\t Accuracy 0.8280\n",
      "Epoch [2][10]\t Batch [150][550]\t Training Loss 0.6340\t Accuracy 0.8236\n",
      "Epoch [2][10]\t Batch [200][550]\t Training Loss 0.6279\t Accuracy 0.8265\n",
      "Epoch [2][10]\t Batch [250][550]\t Training Loss 0.6187\t Accuracy 0.8301\n",
      "Epoch [2][10]\t Batch [300][550]\t Training Loss 0.6160\t Accuracy 0.8307\n",
      "Epoch [2][10]\t Batch [350][550]\t Training Loss 0.6150\t Accuracy 0.8308\n",
      "Epoch [2][10]\t Batch [400][550]\t Training Loss 0.6087\t Accuracy 0.8322\n",
      "Epoch [2][10]\t Batch [450][550]\t Training Loss 0.6042\t Accuracy 0.8340\n",
      "Epoch [2][10]\t Batch [500][550]\t Training Loss 0.6004\t Accuracy 0.8350\n",
      "\n",
      "Epoch [2]\t Average training loss 0.5952\t Average training accuracy 0.8369\n",
      "Epoch [2]\t Average validation loss 0.4580\t Average validation accuracy 0.8866\n",
      "\n",
      "Epoch [3][10]\t Batch [0][550]\t Training Loss 0.5037\t Accuracy 0.9000\n",
      "Epoch [3][10]\t Batch [50][550]\t Training Loss 0.5149\t Accuracy 0.8622\n",
      "Epoch [3][10]\t Batch [100][550]\t Training Loss 0.5160\t Accuracy 0.8610\n",
      "Epoch [3][10]\t Batch [150][550]\t Training Loss 0.5267\t Accuracy 0.8564\n",
      "Epoch [3][10]\t Batch [200][550]\t Training Loss 0.5228\t Accuracy 0.8583\n",
      "Epoch [3][10]\t Batch [250][550]\t Training Loss 0.5162\t Accuracy 0.8604\n",
      "Epoch [3][10]\t Batch [300][550]\t Training Loss 0.5160\t Accuracy 0.8598\n",
      "Epoch [3][10]\t Batch [350][550]\t Training Loss 0.5170\t Accuracy 0.8587\n",
      "Epoch [3][10]\t Batch [400][550]\t Training Loss 0.5134\t Accuracy 0.8596\n",
      "Epoch [3][10]\t Batch [450][550]\t Training Loss 0.5109\t Accuracy 0.8608\n",
      "Epoch [3][10]\t Batch [500][550]\t Training Loss 0.5093\t Accuracy 0.8611\n",
      "\n",
      "Epoch [3]\t Average training loss 0.5062\t Average training accuracy 0.8626\n",
      "Epoch [3]\t Average validation loss 0.3951\t Average validation accuracy 0.9042\n",
      "\n",
      "Epoch [4][10]\t Batch [0][550]\t Training Loss 0.4432\t Accuracy 0.9100\n",
      "Epoch [4][10]\t Batch [50][550]\t Training Loss 0.4495\t Accuracy 0.8802\n",
      "Epoch [4][10]\t Batch [100][550]\t Training Loss 0.4531\t Accuracy 0.8791\n",
      "Epoch [4][10]\t Batch [150][550]\t Training Loss 0.4643\t Accuracy 0.8747\n",
      "Epoch [4][10]\t Batch [200][550]\t Training Loss 0.4611\t Accuracy 0.8759\n",
      "Epoch [4][10]\t Batch [250][550]\t Training Loss 0.4558\t Accuracy 0.8774\n",
      "Epoch [4][10]\t Batch [300][550]\t Training Loss 0.4566\t Accuracy 0.8768\n",
      "Epoch [4][10]\t Batch [350][550]\t Training Loss 0.4583\t Accuracy 0.8752\n",
      "Epoch [4][10]\t Batch [400][550]\t Training Loss 0.4560\t Accuracy 0.8757\n",
      "Epoch [4][10]\t Batch [450][550]\t Training Loss 0.4544\t Accuracy 0.8769\n",
      "Epoch [4][10]\t Batch [500][550]\t Training Loss 0.4539\t Accuracy 0.8767\n",
      "\n",
      "Epoch [4]\t Average training loss 0.4517\t Average training accuracy 0.8778\n",
      "Epoch [4]\t Average validation loss 0.3545\t Average validation accuracy 0.9158\n",
      "\n",
      "Epoch [5][10]\t Batch [0][550]\t Training Loss 0.4049\t Accuracy 0.9300\n",
      "Epoch [5][10]\t Batch [50][550]\t Training Loss 0.4062\t Accuracy 0.8918\n",
      "Epoch [5][10]\t Batch [100][550]\t Training Loss 0.4113\t Accuracy 0.8906\n",
      "Epoch [5][10]\t Batch [150][550]\t Training Loss 0.4225\t Accuracy 0.8872\n",
      "Epoch [5][10]\t Batch [200][550]\t Training Loss 0.4197\t Accuracy 0.8880\n",
      "Epoch [5][10]\t Batch [250][550]\t Training Loss 0.4151\t Accuracy 0.8890\n",
      "Epoch [5][10]\t Batch [300][550]\t Training Loss 0.4164\t Accuracy 0.8885\n",
      "Epoch [5][10]\t Batch [350][550]\t Training Loss 0.4183\t Accuracy 0.8870\n",
      "Epoch [5][10]\t Batch [400][550]\t Training Loss 0.4167\t Accuracy 0.8873\n",
      "Epoch [5][10]\t Batch [450][550]\t Training Loss 0.4156\t Accuracy 0.8880\n",
      "Epoch [5][10]\t Batch [500][550]\t Training Loss 0.4157\t Accuracy 0.8878\n",
      "\n",
      "Epoch [5]\t Average training loss 0.4141\t Average training accuracy 0.8884\n",
      "Epoch [5]\t Average validation loss 0.3258\t Average validation accuracy 0.9202\n",
      "\n",
      "Epoch [6][10]\t Batch [0][550]\t Training Loss 0.3778\t Accuracy 0.9300\n",
      "Epoch [6][10]\t Batch [50][550]\t Training Loss 0.3748\t Accuracy 0.9041\n",
      "Epoch [6][10]\t Batch [100][550]\t Training Loss 0.3810\t Accuracy 0.9006\n",
      "Epoch [6][10]\t Batch [150][550]\t Training Loss 0.3921\t Accuracy 0.8970\n",
      "Epoch [6][10]\t Batch [200][550]\t Training Loss 0.3895\t Accuracy 0.8971\n",
      "Epoch [6][10]\t Batch [250][550]\t Training Loss 0.3853\t Accuracy 0.8974\n",
      "Epoch [6][10]\t Batch [300][550]\t Training Loss 0.3869\t Accuracy 0.8965\n",
      "Epoch [6][10]\t Batch [350][550]\t Training Loss 0.3889\t Accuracy 0.8946\n",
      "Epoch [6][10]\t Batch [400][550]\t Training Loss 0.3877\t Accuracy 0.8951\n",
      "Epoch [6][10]\t Batch [450][550]\t Training Loss 0.3868\t Accuracy 0.8959\n",
      "Epoch [6][10]\t Batch [500][550]\t Training Loss 0.3874\t Accuracy 0.8955\n",
      "\n",
      "Epoch [6]\t Average training loss 0.3861\t Average training accuracy 0.8960\n",
      "Epoch [6]\t Average validation loss 0.3041\t Average validation accuracy 0.9248\n",
      "\n",
      "Epoch [7][10]\t Batch [0][550]\t Training Loss 0.3568\t Accuracy 0.9300\n",
      "Epoch [7][10]\t Batch [50][550]\t Training Loss 0.3507\t Accuracy 0.9090\n",
      "Epoch [7][10]\t Batch [100][550]\t Training Loss 0.3578\t Accuracy 0.9060\n",
      "Epoch [7][10]\t Batch [150][550]\t Training Loss 0.3686\t Accuracy 0.9029\n",
      "Epoch [7][10]\t Batch [200][550]\t Training Loss 0.3661\t Accuracy 0.9028\n",
      "Epoch [7][10]\t Batch [250][550]\t Training Loss 0.3623\t Accuracy 0.9033\n",
      "Epoch [7][10]\t Batch [300][550]\t Training Loss 0.3639\t Accuracy 0.9025\n",
      "Epoch [7][10]\t Batch [350][550]\t Training Loss 0.3660\t Accuracy 0.9008\n",
      "Epoch [7][10]\t Batch [400][550]\t Training Loss 0.3651\t Accuracy 0.9014\n",
      "Epoch [7][10]\t Batch [450][550]\t Training Loss 0.3645\t Accuracy 0.9018\n",
      "Epoch [7][10]\t Batch [500][550]\t Training Loss 0.3652\t Accuracy 0.9012\n",
      "\n",
      "Epoch [7]\t Average training loss 0.3642\t Average training accuracy 0.9016\n",
      "Epoch [7]\t Average validation loss 0.2868\t Average validation accuracy 0.9270\n",
      "\n",
      "Epoch [8][10]\t Batch [0][550]\t Training Loss 0.3402\t Accuracy 0.9500\n",
      "Epoch [8][10]\t Batch [50][550]\t Training Loss 0.3314\t Accuracy 0.9137\n",
      "Epoch [8][10]\t Batch [100][550]\t Training Loss 0.3390\t Accuracy 0.9110\n",
      "Epoch [8][10]\t Batch [150][550]\t Training Loss 0.3496\t Accuracy 0.9080\n"
     ]
    },
    {
     "name": "stdout",
     "output_type": "stream",
     "text": [
      "Epoch [8][10]\t Batch [200][550]\t Training Loss 0.3471\t Accuracy 0.9079\n",
      "Epoch [8][10]\t Batch [250][550]\t Training Loss 0.3435\t Accuracy 0.9087\n",
      "Epoch [8][10]\t Batch [300][550]\t Training Loss 0.3452\t Accuracy 0.9077\n",
      "Epoch [8][10]\t Batch [350][550]\t Training Loss 0.3473\t Accuracy 0.9063\n",
      "Epoch [8][10]\t Batch [400][550]\t Training Loss 0.3466\t Accuracy 0.9067\n",
      "Epoch [8][10]\t Batch [450][550]\t Training Loss 0.3461\t Accuracy 0.9073\n",
      "Epoch [8][10]\t Batch [500][550]\t Training Loss 0.3469\t Accuracy 0.9068\n",
      "\n",
      "Epoch [8]\t Average training loss 0.3460\t Average training accuracy 0.9071\n",
      "Epoch [8]\t Average validation loss 0.2719\t Average validation accuracy 0.9298\n",
      "\n",
      "Epoch [9][10]\t Batch [0][550]\t Training Loss 0.3252\t Accuracy 0.9500\n",
      "Epoch [9][10]\t Batch [50][550]\t Training Loss 0.3145\t Accuracy 0.9202\n",
      "Epoch [9][10]\t Batch [100][550]\t Training Loss 0.3226\t Accuracy 0.9168\n",
      "Epoch [9][10]\t Batch [150][550]\t Training Loss 0.3329\t Accuracy 0.9138\n",
      "Epoch [9][10]\t Batch [200][550]\t Training Loss 0.3303\t Accuracy 0.9138\n",
      "Epoch [9][10]\t Batch [250][550]\t Training Loss 0.3268\t Accuracy 0.9140\n",
      "Epoch [9][10]\t Batch [300][550]\t Training Loss 0.3285\t Accuracy 0.9132\n",
      "Epoch [9][10]\t Batch [350][550]\t Training Loss 0.3305\t Accuracy 0.9119\n",
      "Epoch [9][10]\t Batch [400][550]\t Training Loss 0.3300\t Accuracy 0.9120\n",
      "Epoch [9][10]\t Batch [450][550]\t Training Loss 0.3296\t Accuracy 0.9125\n",
      "Epoch [9][10]\t Batch [500][550]\t Training Loss 0.3306\t Accuracy 0.9120\n",
      "\n",
      "Epoch [9]\t Average training loss 0.3299\t Average training accuracy 0.9123\n",
      "Epoch [9]\t Average validation loss 0.2596\t Average validation accuracy 0.9330\n",
      "\n"
     ]
    }
   ],
   "source": [
    "# Train\n",
    "convNet.is_training = True\n",
    "convNet, conv_loss, conv_acc = train(convNet, criterion, sgd, data_train, max_epoch, batch_size, disp_freq)"
   ]
  },
  {
   "cell_type": "code",
   "execution_count": 9,
   "metadata": {},
   "outputs": [
    {
     "name": "stdout",
     "output_type": "stream",
     "text": [
      "Testing...\n",
      "The test accuracy is 0.9197.\n",
      "\n"
     ]
    }
   ],
   "source": [
    "# Test\n",
    "convNet.is_training = False\n",
    "test(convNet, criterion, data_test, batch_size, disp_freq)"
   ]
  },
  {
   "cell_type": "markdown",
   "metadata": {},
   "source": [
    "## Plot"
   ]
  },
  {
   "cell_type": "code",
   "execution_count": 10,
   "metadata": {
    "scrolled": true
   },
   "outputs": [
    {
     "data": {
      "image/png": "[encoded data removed]",
      "text/plain": [
       "<Figure size 432x288 with 1 Axes>"
      ]
     },
     "metadata": {
      "needs_background": "light"
     },
     "output_type": "display_data"
    },
    {
     "data": {
      "image/png": "[encoded data removed]",
      "text/plain": [
       "<Figure size 432x288 with 1 Axes>"
      ]
     },
     "metadata": {
      "needs_background": "light"
     },
     "output_type": "display_data"
    }
   ],
   "source": [
    "plot_loss_and_acc({'ConvNet': [conv_loss, conv_acc]})"
   ]
  },
  {
   "cell_type": "markdown",
   "metadata": {},
   "source": [
    "### ~~You have finished homework3, congratulations!~~  \n",
    "\n",
    "**Next, according to the requirements (4):**\n",
    "### **You need to implement the Dropout layer and train the network again.**"
   ]
  },
  {
   "cell_type": "code",
   "execution_count": 5,
   "metadata": {},
   "outputs": [],
   "source": [
    "# Hyperparameters\n",
    "batch_size = 100\n",
    "max_epoch = 10\n",
    "init_std = 0.01\n",
    "\n",
    "learning_rate = 0.001\n",
    "weight_decay = 0\n",
    "\n",
    "disp_freq = 50"
   ]
  },
  {
   "cell_type": "code",
   "execution_count": 6,
   "metadata": {},
   "outputs": [],
   "source": [
    "from layers import FCLayer, ReLULayer, ConvLayer, MaxPoolingLayer, ReshapeLayer, DropoutLayer\n",
    "\n",
    "# build your network\n",
    "convNet = Network()\n",
    "convNet.add(ConvLayer(1, 8, 3, 1))\n",
    "convNet.add(ReLULayer())\n",
    "#convNet.add(DropoutLayer(0.1))\n",
    "convNet.add(MaxPoolingLayer(2, 0))\n",
    "convNet.add(ConvLayer(8, 16, 3, 1))\n",
    "convNet.add(ReLULayer())\n",
    "#convNet.add(DropoutLayer(0.1))\n",
    "convNet.add(MaxPoolingLayer(2, 0))\n",
    "convNet.add(ReshapeLayer((batch_size, 16, 7, 7), (batch_size, 784)))\n",
    "convNet.add(FCLayer(784, 128))\n",
    "convNet.add(ReLULayer())\n",
    "convNet.add(DropoutLayer(0.2))\n",
    "convNet.add(FCLayer(128, 10))"
   ]
  },
  {
   "cell_type": "code",
   "execution_count": 7,
   "metadata": {},
   "outputs": [],
   "source": [
    "from criterion import SoftmaxCrossEntropyLossLayer\n",
    "from optimizer import SGD\n",
    "\n",
    "# Set Criterion and Optimizer\n",
    "criterion = SoftmaxCrossEntropyLossLayer()\n",
    "sgd = SGD(learning_rate, weight_decay)"
   ]
  },
  {
   "cell_type": "code",
   "execution_count": 8,
   "metadata": {
    "scrolled": true
   },
   "outputs": [
    {
     "name": "stdout",
     "output_type": "stream",
     "text": [
      "WARNING:tensorflow:From C:\\Users\\Nate\\Desktop\\Deep Learning\\homework-3\\solver.py:15: DatasetV1.make_one_shot_iterator (from tensorflow.python.data.ops.dataset_ops) is deprecated and will be removed in a future version.\n",
      "Instructions for updating:\n",
      "Use `for ... in dataset:` to iterate over a dataset. If using `tf.estimator`, return the `Dataset` object directly from your input function. As a last resort, you can use `tf.compat.v1.data.make_one_shot_iterator(dataset)`.\n",
      "Epoch [0][10]\t Batch [0][550]\t Training Loss 12.8416\t Accuracy 0.1300\n",
      "Epoch [0][10]\t Batch [50][550]\t Training Loss 4.0405\t Accuracy 0.2525\n",
      "Epoch [0][10]\t Batch [100][550]\t Training Loss 2.8695\t Accuracy 0.3567\n",
      "Epoch [0][10]\t Batch [150][550]\t Training Loss 2.3915\t Accuracy 0.4154\n",
      "Epoch [0][10]\t Batch [200][550]\t Training Loss 2.1039\t Accuracy 0.4594\n",
      "Epoch [0][10]\t Batch [250][550]\t Training Loss 1.9078\t Accuracy 0.4944\n",
      "Epoch [0][10]\t Batch [300][550]\t Training Loss 1.7622\t Accuracy 0.5221\n",
      "Epoch [0][10]\t Batch [350][550]\t Training Loss 1.6519\t Accuracy 0.5437\n",
      "Epoch [0][10]\t Batch [400][550]\t Training Loss 1.5605\t Accuracy 0.5637\n",
      "Epoch [0][10]\t Batch [450][550]\t Training Loss 1.4858\t Accuracy 0.5794\n",
      "Epoch [0][10]\t Batch [500][550]\t Training Loss 1.4245\t Accuracy 0.5929\n",
      "\n",
      "Epoch [0]\t Average training loss 1.3700\t Average training accuracy 0.6061\n",
      "Epoch [0]\t Average validation loss 0.6867\t Average validation accuracy 0.7796\n",
      "\n",
      "Epoch [1][10]\t Batch [0][550]\t Training Loss 0.6839\t Accuracy 0.7900\n",
      "Epoch [1][10]\t Batch [50][550]\t Training Loss 0.7746\t Accuracy 0.7524\n",
      "Epoch [1][10]\t Batch [100][550]\t Training Loss 0.7551\t Accuracy 0.7578\n",
      "Epoch [1][10]\t Batch [150][550]\t Training Loss 0.7578\t Accuracy 0.7565\n",
      "Epoch [1][10]\t Batch [200][550]\t Training Loss 0.7449\t Accuracy 0.7607\n",
      "Epoch [1][10]\t Batch [250][550]\t Training Loss 0.7337\t Accuracy 0.7645\n",
      "Epoch [1][10]\t Batch [300][550]\t Training Loss 0.7253\t Accuracy 0.7670\n",
      "Epoch [1][10]\t Batch [350][550]\t Training Loss 0.7191\t Accuracy 0.7689\n",
      "Epoch [1][10]\t Batch [400][550]\t Training Loss 0.7074\t Accuracy 0.7731\n",
      "Epoch [1][10]\t Batch [450][550]\t Training Loss 0.7006\t Accuracy 0.7763\n",
      "Epoch [1][10]\t Batch [500][550]\t Training Loss 0.6949\t Accuracy 0.7782\n",
      "\n",
      "Epoch [1]\t Average training loss 0.6868\t Average training accuracy 0.7812\n",
      "Epoch [1]\t Average validation loss 0.5172\t Average validation accuracy 0.8364\n",
      "\n",
      "Epoch [2][10]\t Batch [0][550]\t Training Loss 0.5824\t Accuracy 0.8200\n",
      "Epoch [2][10]\t Batch [50][550]\t Training Loss 0.5708\t Accuracy 0.8178\n",
      "Epoch [2][10]\t Batch [100][550]\t Training Loss 0.5754\t Accuracy 0.8194\n",
      "Epoch [2][10]\t Batch [150][550]\t Training Loss 0.5843\t Accuracy 0.8148\n",
      "Epoch [2][10]\t Batch [200][550]\t Training Loss 0.5760\t Accuracy 0.8166\n",
      "Epoch [2][10]\t Batch [250][550]\t Training Loss 0.5764\t Accuracy 0.8158\n",
      "Epoch [2][10]\t Batch [300][550]\t Training Loss 0.5747\t Accuracy 0.8168\n",
      "Epoch [2][10]\t Batch [350][550]\t Training Loss 0.5728\t Accuracy 0.8183\n",
      "Epoch [2][10]\t Batch [400][550]\t Training Loss 0.5655\t Accuracy 0.8216\n",
      "Epoch [2][10]\t Batch [450][550]\t Training Loss 0.5607\t Accuracy 0.8231\n",
      "Epoch [2][10]\t Batch [500][550]\t Training Loss 0.5592\t Accuracy 0.8238\n",
      "\n",
      "Epoch [2]\t Average training loss 0.5570\t Average training accuracy 0.8242\n",
      "Epoch [2]\t Average validation loss 0.4254\t Average validation accuracy 0.8698\n",
      "\n",
      "Epoch [3][10]\t Batch [0][550]\t Training Loss 0.4257\t Accuracy 0.8500\n",
      "Epoch [3][10]\t Batch [50][550]\t Training Loss 0.4939\t Accuracy 0.8480\n",
      "Epoch [3][10]\t Batch [100][550]\t Training Loss 0.5065\t Accuracy 0.8458\n",
      "Epoch [3][10]\t Batch [150][550]\t Training Loss 0.5082\t Accuracy 0.8417\n",
      "Epoch [3][10]\t Batch [200][550]\t Training Loss 0.5029\t Accuracy 0.8425\n",
      "Epoch [3][10]\t Batch [250][550]\t Training Loss 0.5011\t Accuracy 0.8418\n",
      "Epoch [3][10]\t Batch [300][550]\t Training Loss 0.4993\t Accuracy 0.8433\n",
      "Epoch [3][10]\t Batch [350][550]\t Training Loss 0.4963\t Accuracy 0.8447\n",
      "Epoch [3][10]\t Batch [400][550]\t Training Loss 0.4928\t Accuracy 0.8461\n",
      "Epoch [3][10]\t Batch [450][550]\t Training Loss 0.4905\t Accuracy 0.8468\n",
      "Epoch [3][10]\t Batch [500][550]\t Training Loss 0.4899\t Accuracy 0.8469\n",
      "\n",
      "Epoch [3]\t Average training loss 0.4882\t Average training accuracy 0.8473\n",
      "Epoch [3]\t Average validation loss 0.3854\t Average validation accuracy 0.8806\n",
      "\n",
      "Epoch [4][10]\t Batch [0][550]\t Training Loss 0.4316\t Accuracy 0.9000\n",
      "Epoch [4][10]\t Batch [50][550]\t Training Loss 0.4330\t Accuracy 0.8645\n",
      "Epoch [4][10]\t Batch [100][550]\t Training Loss 0.4409\t Accuracy 0.8639\n",
      "Epoch [4][10]\t Batch [150][550]\t Training Loss 0.4461\t Accuracy 0.8623\n",
      "Epoch [4][10]\t Batch [200][550]\t Training Loss 0.4440\t Accuracy 0.8619\n",
      "Epoch [4][10]\t Batch [250][550]\t Training Loss 0.4463\t Accuracy 0.8616\n",
      "Epoch [4][10]\t Batch [300][550]\t Training Loss 0.4475\t Accuracy 0.8605\n",
      "Epoch [4][10]\t Batch [350][550]\t Training Loss 0.4476\t Accuracy 0.8609\n",
      "Epoch [4][10]\t Batch [400][550]\t Training Loss 0.4450\t Accuracy 0.8613\n",
      "Epoch [4][10]\t Batch [450][550]\t Training Loss 0.4441\t Accuracy 0.8620\n",
      "Epoch [4][10]\t Batch [500][550]\t Training Loss 0.4447\t Accuracy 0.8613\n",
      "\n",
      "Epoch [4]\t Average training loss 0.4431\t Average training accuracy 0.8621\n",
      "Epoch [4]\t Average validation loss 0.3495\t Average validation accuracy 0.8946\n",
      "\n",
      "Epoch [5][10]\t Batch [0][550]\t Training Loss 0.3826\t Accuracy 0.8900\n",
      "Epoch [5][10]\t Batch [50][550]\t Training Loss 0.3961\t Accuracy 0.8790\n",
      "Epoch [5][10]\t Batch [100][550]\t Training Loss 0.4135\t Accuracy 0.8719\n",
      "Epoch [5][10]\t Batch [150][550]\t Training Loss 0.4231\t Accuracy 0.8695\n",
      "Epoch [5][10]\t Batch [200][550]\t Training Loss 0.4204\t Accuracy 0.8709\n",
      "Epoch [5][10]\t Batch [250][550]\t Training Loss 0.4194\t Accuracy 0.8698\n",
      "Epoch [5][10]\t Batch [300][550]\t Training Loss 0.4208\t Accuracy 0.8693\n",
      "Epoch [5][10]\t Batch [350][550]\t Training Loss 0.4206\t Accuracy 0.8693\n",
      "Epoch [5][10]\t Batch [400][550]\t Training Loss 0.4159\t Accuracy 0.8705\n",
      "Epoch [5][10]\t Batch [450][550]\t Training Loss 0.4148\t Accuracy 0.8708\n",
      "Epoch [5][10]\t Batch [500][550]\t Training Loss 0.4148\t Accuracy 0.8707\n",
      "\n",
      "Epoch [5]\t Average training loss 0.4139\t Average training accuracy 0.8709\n",
      "Epoch [5]\t Average validation loss 0.3300\t Average validation accuracy 0.8994\n",
      "\n",
      "Epoch [6][10]\t Batch [0][550]\t Training Loss 0.3922\t Accuracy 0.9200\n",
      "Epoch [6][10]\t Batch [50][550]\t Training Loss 0.3798\t Accuracy 0.8851\n",
      "Epoch [6][10]\t Batch [100][550]\t Training Loss 0.3909\t Accuracy 0.8832\n",
      "Epoch [6][10]\t Batch [150][550]\t Training Loss 0.4003\t Accuracy 0.8787\n",
      "Epoch [6][10]\t Batch [200][550]\t Training Loss 0.3952\t Accuracy 0.8784\n",
      "Epoch [6][10]\t Batch [250][550]\t Training Loss 0.3922\t Accuracy 0.8783\n",
      "Epoch [6][10]\t Batch [300][550]\t Training Loss 0.3929\t Accuracy 0.8771\n",
      "Epoch [6][10]\t Batch [350][550]\t Training Loss 0.3924\t Accuracy 0.8776\n",
      "Epoch [6][10]\t Batch [400][550]\t Training Loss 0.3901\t Accuracy 0.8787\n",
      "Epoch [6][10]\t Batch [450][550]\t Training Loss 0.3906\t Accuracy 0.8786\n",
      "Epoch [6][10]\t Batch [500][550]\t Training Loss 0.3904\t Accuracy 0.8783\n",
      "\n",
      "Epoch [6]\t Average training loss 0.3904\t Average training accuracy 0.8784\n",
      "Epoch [6]\t Average validation loss 0.3001\t Average validation accuracy 0.9046\n",
      "\n",
      "Epoch [7][10]\t Batch [0][550]\t Training Loss 0.3107\t Accuracy 0.9400\n",
      "Epoch [7][10]\t Batch [50][550]\t Training Loss 0.3521\t Accuracy 0.8959\n",
      "Epoch [7][10]\t Batch [100][550]\t Training Loss 0.3673\t Accuracy 0.8926\n",
      "Epoch [7][10]\t Batch [150][550]\t Training Loss 0.3764\t Accuracy 0.8883\n",
      "Epoch [7][10]\t Batch [200][550]\t Training Loss 0.3724\t Accuracy 0.8888\n",
      "Epoch [7][10]\t Batch [250][550]\t Training Loss 0.3709\t Accuracy 0.8878\n",
      "Epoch [7][10]\t Batch [300][550]\t Training Loss 0.3732\t Accuracy 0.8862\n",
      "Epoch [7][10]\t Batch [350][550]\t Training Loss 0.3720\t Accuracy 0.8862\n",
      "Epoch [7][10]\t Batch [400][550]\t Training Loss 0.3717\t Accuracy 0.8864\n",
      "Epoch [7][10]\t Batch [450][550]\t Training Loss 0.3709\t Accuracy 0.8868\n",
      "Epoch [7][10]\t Batch [500][550]\t Training Loss 0.3719\t Accuracy 0.8860\n",
      "\n",
      "Epoch [7]\t Average training loss 0.3709\t Average training accuracy 0.8863\n",
      "Epoch [7]\t Average validation loss 0.2999\t Average validation accuracy 0.9088\n",
      "\n",
      "Epoch [8][10]\t Batch [0][550]\t Training Loss 0.3096\t Accuracy 0.9200\n",
      "Epoch [8][10]\t Batch [50][550]\t Training Loss 0.3334\t Accuracy 0.9000\n",
      "Epoch [8][10]\t Batch [100][550]\t Training Loss 0.3535\t Accuracy 0.8961\n",
      "Epoch [8][10]\t Batch [150][550]\t Training Loss 0.3573\t Accuracy 0.8931\n"
     ]
    },
    {
     "name": "stdout",
     "output_type": "stream",
     "text": [
      "Epoch [8][10]\t Batch [200][550]\t Training Loss 0.3553\t Accuracy 0.8928\n",
      "Epoch [8][10]\t Batch [250][550]\t Training Loss 0.3542\t Accuracy 0.8927\n",
      "Epoch [8][10]\t Batch [300][550]\t Training Loss 0.3550\t Accuracy 0.8918\n",
      "Epoch [8][10]\t Batch [350][550]\t Training Loss 0.3552\t Accuracy 0.8922\n",
      "Epoch [8][10]\t Batch [400][550]\t Training Loss 0.3529\t Accuracy 0.8928\n",
      "Epoch [8][10]\t Batch [450][550]\t Training Loss 0.3526\t Accuracy 0.8929\n",
      "Epoch [8][10]\t Batch [500][550]\t Training Loss 0.3525\t Accuracy 0.8930\n",
      "\n",
      "Epoch [8]\t Average training loss 0.3522\t Average training accuracy 0.8929\n",
      "Epoch [8]\t Average validation loss 0.2818\t Average validation accuracy 0.9150\n",
      "\n",
      "Epoch [9][10]\t Batch [0][550]\t Training Loss 0.4018\t Accuracy 0.9100\n",
      "Epoch [9][10]\t Batch [50][550]\t Training Loss 0.3191\t Accuracy 0.9053\n",
      "Epoch [9][10]\t Batch [100][550]\t Training Loss 0.3355\t Accuracy 0.9005\n",
      "Epoch [9][10]\t Batch [150][550]\t Training Loss 0.3393\t Accuracy 0.8985\n",
      "Epoch [9][10]\t Batch [200][550]\t Training Loss 0.3389\t Accuracy 0.8973\n",
      "Epoch [9][10]\t Batch [250][550]\t Training Loss 0.3385\t Accuracy 0.8964\n",
      "Epoch [9][10]\t Batch [300][550]\t Training Loss 0.3402\t Accuracy 0.8955\n",
      "Epoch [9][10]\t Batch [350][550]\t Training Loss 0.3399\t Accuracy 0.8959\n",
      "Epoch [9][10]\t Batch [400][550]\t Training Loss 0.3387\t Accuracy 0.8961\n",
      "Epoch [9][10]\t Batch [450][550]\t Training Loss 0.3387\t Accuracy 0.8963\n",
      "Epoch [9][10]\t Batch [500][550]\t Training Loss 0.3399\t Accuracy 0.8955\n",
      "\n",
      "Epoch [9]\t Average training loss 0.3399\t Average training accuracy 0.8956\n",
      "Epoch [9]\t Average validation loss 0.2813\t Average validation accuracy 0.9192\n",
      "\n"
     ]
    }
   ],
   "source": [
    "# Train\n",
    "convNet.is_training = True\n",
    "convNet, conv_loss, conv_acc = train(convNet, criterion, sgd, data_train, max_epoch, batch_size, disp_freq)"
   ]
  },
  {
   "cell_type": "code",
   "execution_count": 9,
   "metadata": {},
   "outputs": [
    {
     "name": "stdout",
     "output_type": "stream",
     "text": [
      "Testing...\n",
      "The test accuracy is 0.9305.\n",
      "\n"
     ]
    }
   ],
   "source": [
    "# Test\n",
    "convNet.is_training = False\n",
    "test(convNet, criterion, data_test, batch_size, disp_freq)"
   ]
  },
  {
   "cell_type": "code",
   "execution_count": 10,
   "metadata": {
    "scrolled": true
   },
   "outputs": [
    {
     "data": {
      "image/png": "[encoded data removed]",
      "text/plain": [
       "<Figure size 432x288 with 1 Axes>"
      ]
     },
     "metadata": {
      "needs_background": "light"
     },
     "output_type": "display_data"
    },
    {
     "data": {
      "image/png": "[encoded data removed]",
      "text/plain": [
       "<Figure size 432x288 with 1 Axes>"
      ]
     },
     "metadata": {
      "needs_background": "light"
     },
     "output_type": "display_data"
    }
   ],
   "source": [
    "# Plot\n",
    "plot_loss_and_acc({'ConvNet': [conv_loss, conv_acc]})"
   ]
  },
  {
   "cell_type": "code",
   "execution_count": null,
   "metadata": {},
   "outputs": [],
   "source": []
  }
 ],
 "metadata": {
  "kernelspec": {
   "display_name": "Python 3",
   "language": "python",
   "name": "python3"
  },
  "language_info": {
   "codemirror_mode": {
    "name": "ipython",
    "version": 3
   },
   "file_extension": ".py",
   "mimetype": "text/x-python",
   "name": "python",
   "nbconvert_exporter": "python",
   "pygments_lexer": "ipython3",
   "version": "3.7.6"
  }
 },
 "nbformat": 4,
 "nbformat_minor": 2
}
