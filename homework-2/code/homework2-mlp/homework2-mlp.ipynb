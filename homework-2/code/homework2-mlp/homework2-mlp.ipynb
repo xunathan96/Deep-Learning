{
 "cells": [
  {
   "cell_type": "markdown",
   "metadata": {},
   "source": [
    "# Homework-2: MLP for MNIST Classification\n",
    "\n",
    "### In this homework, you need to\n",
    "- #### implement SGD optimizer (`./optimizer.py`)\n",
    "- #### implement forward and backward for FCLayer (`layers/fc_layer.py`)\n",
    "- #### implement forward and backward for SigmoidLayer (`layers/sigmoid_layer.py`)\n",
    "- #### implement forward and backward for ReLULayer (`layers/relu_layer.py`)\n",
    "- #### implement EuclideanLossLayer (`criterion/euclidean_loss.py`)\n",
    "- #### implement SoftmaxCrossEntropyLossLayer (`criterion/softmax_cross_entropy.py`)"
   ]
  },
  {
   "cell_type": "code",
   "execution_count": 1,
   "metadata": {},
   "outputs": [],
   "source": [
    "import numpy as np\n",
    "import matplotlib.pyplot as plt\n",
    "%matplotlib inline\n",
    "import tensorflow.compat.v1 as tf\n",
    "tf.disable_eager_execution()\n",
    "\n",
    "from network import Network\n",
    "from solver import train, test\n",
    "from plot import plot_loss_and_acc"
   ]
  },
  {
   "cell_type": "markdown",
   "metadata": {},
   "source": [
    "## Load MNIST Dataset\n",
    "We use tensorflow tools to load dataset for convenience."
   ]
  },
  {
   "cell_type": "code",
   "execution_count": 2,
   "metadata": {},
   "outputs": [],
   "source": [
    "(x_train, y_train), (x_test, y_test) = tf.keras.datasets.mnist.load_data()"
   ]
  },
  {
   "cell_type": "code",
   "execution_count": 3,
   "metadata": {},
   "outputs": [],
   "source": [
    "def decode_image(image):\n",
    "    # Normalize from [0, 255.] to [0., 1.0], and then subtract by the mean value\n",
    "    image = tf.cast(image, tf.float32)\n",
    "    image = tf.reshape(image, [784])\n",
    "    image = image / 255.0\n",
    "    image = image - tf.reduce_mean(image)\n",
    "    return image\n",
    "\n",
    "def decode_label(label):\n",
    "    # Encode label with one-hot encoding\n",
    "    return tf.one_hot(label, depth=10)"
   ]
  },
  {
   "cell_type": "code",
   "execution_count": 4,
   "metadata": {},
   "outputs": [],
   "source": [
    "# Data Preprocessing\n",
    "x_train = tf.data.Dataset.from_tensor_slices(x_train).map(decode_image)\n",
    "y_train = tf.data.Dataset.from_tensor_slices(y_train).map(decode_label)\n",
    "data_train = tf.data.Dataset.zip((x_train, y_train))\n",
    "\n",
    "x_test = tf.data.Dataset.from_tensor_slices(x_test).map(decode_image)\n",
    "y_test = tf.data.Dataset.from_tensor_slices(y_test).map(decode_label)\n",
    "data_test = tf.data.Dataset.zip((x_test, y_test))"
   ]
  },
  {
   "cell_type": "markdown",
   "metadata": {},
   "source": [
    "## Set Hyerparameters\n",
    "You can modify hyerparameters by yourself."
   ]
  },
  {
   "cell_type": "code",
   "execution_count": 5,
   "metadata": {},
   "outputs": [],
   "source": [
    "batch_size = 100\n",
    "max_epoch = 10 #20\n",
    "init_std = 0.01\n",
    "\n",
    "learning_rate_SGD = 0.001 #0.001\n",
    "weight_decay = 0.1\n",
    "\n",
    "disp_freq = 50"
   ]
  },
  {
   "cell_type": "markdown",
   "metadata": {},
   "source": [
    "## 1. MLP with Euclidean Loss\n",
    "In part-1, you need to train a MLP with **Euclidean Loss**.  \n",
    "**Sigmoid Activation Function** and **ReLU Activation Function** will be used respectively.\n",
    "### TODO\n",
    "Before executing the following code, you should complete **./optimizer.py** and **criterion/euclidean_loss.py**."
   ]
  },
  {
   "cell_type": "code",
   "execution_count": 6,
   "metadata": {},
   "outputs": [],
   "source": [
    "from criterion import EuclideanLossLayer\n",
    "from optimizer import SGD\n",
    "\n",
    "criterion = EuclideanLossLayer()\n",
    "\n",
    "sgd = SGD(learning_rate_SGD, weight_decay)"
   ]
  },
  {
   "cell_type": "markdown",
   "metadata": {},
   "source": [
    "## 1.1 MLP with Euclidean Loss and Sigmoid Activation Function\n",
    "Build and train a MLP contraining one hidden layer with 128 units using Sigmoid activation function and Euclidean loss function.\n",
    "\n",
    "### TODO\n",
    "Before executing the following code, you should complete **layers/fc_layer.py** and **layers/sigmoid_layer.py**."
   ]
  },
  {
   "cell_type": "code",
   "execution_count": 7,
   "metadata": {},
   "outputs": [],
   "source": [
    "from layers import FCLayer, SigmoidLayer\n",
    "\n",
    "sigmoidMLP = Network()\n",
    "# Build MLP with FCLayer and SigmoidLayer\n",
    "# 128 is the number of hidden units, you can change by your own\n",
    "sigmoidMLP.add(FCLayer(784, 128))\n",
    "sigmoidMLP.add(SigmoidLayer())\n",
    "sigmoidMLP.add(FCLayer(128, 10))"
   ]
  },
  {
   "cell_type": "code",
   "execution_count": 8,
   "metadata": {
    "scrolled": true
   },
   "outputs": [
    {
     "name": "stdout",
     "output_type": "stream",
     "text": [
      "WARNING:tensorflow:From /Users/xunathan/Documents/清华大学/Deep Learning/Homework/homework-2/homework2-mlp/solver.py:15: DatasetV1.make_one_shot_iterator (from tensorflow.python.data.ops.dataset_ops) is deprecated and will be removed in a future version.\n",
      "Instructions for updating:\n",
      "Use `for ... in dataset:` to iterate over a dataset. If using `tf.estimator`, return the `Dataset` object directly from your input function. As a last resort, you can use `tf.compat.v1.data.make_one_shot_iterator(dataset)`.\n",
      "Epoch [0][10]\t Batch [0][550]\t Training Loss 3.8501\t Accuracy 0.1100\n",
      "Epoch [0][10]\t Batch [50][550]\t Training Loss 1.4683\t Accuracy 0.0880\n",
      "Epoch [0][10]\t Batch [100][550]\t Training Loss 1.0756\t Accuracy 0.0835\n",
      "Epoch [0][10]\t Batch [150][550]\t Training Loss 0.9302\t Accuracy 0.0881\n",
      "Epoch [0][10]\t Batch [200][550]\t Training Loss 0.8539\t Accuracy 0.0905\n",
      "Epoch [0][10]\t Batch [250][550]\t Training Loss 0.8035\t Accuracy 0.0957\n",
      "Epoch [0][10]\t Batch [300][550]\t Training Loss 0.7675\t Accuracy 0.0995\n",
      "Epoch [0][10]\t Batch [350][550]\t Training Loss 0.7397\t Accuracy 0.1049\n",
      "Epoch [0][10]\t Batch [400][550]\t Training Loss 0.7171\t Accuracy 0.1110\n",
      "Epoch [0][10]\t Batch [450][550]\t Training Loss 0.6979\t Accuracy 0.1175\n",
      "Epoch [0][10]\t Batch [500][550]\t Training Loss 0.6821\t Accuracy 0.1234\n",
      "\n",
      "Epoch [0]\t Average training loss 0.6672\t Average training accuracy 0.1314\n",
      "Epoch [0]\t Average validation loss 0.5107\t Average validation accuracy 0.2098\n",
      "\n",
      "Epoch [1][10]\t Batch [0][550]\t Training Loss 0.4915\t Accuracy 0.2100\n",
      "Epoch [1][10]\t Batch [50][550]\t Training Loss 0.5024\t Accuracy 0.2325\n",
      "Epoch [1][10]\t Batch [100][550]\t Training Loss 0.4984\t Accuracy 0.2435\n",
      "Epoch [1][10]\t Batch [150][550]\t Training Loss 0.4940\t Accuracy 0.2541\n",
      "Epoch [1][10]\t Batch [200][550]\t Training Loss 0.4910\t Accuracy 0.2580\n",
      "Epoch [1][10]\t Batch [250][550]\t Training Loss 0.4865\t Accuracy 0.2678\n",
      "Epoch [1][10]\t Batch [300][550]\t Training Loss 0.4824\t Accuracy 0.2750\n",
      "Epoch [1][10]\t Batch [350][550]\t Training Loss 0.4792\t Accuracy 0.2812\n",
      "Epoch [1][10]\t Batch [400][550]\t Training Loss 0.4755\t Accuracy 0.2890\n",
      "Epoch [1][10]\t Batch [450][550]\t Training Loss 0.4720\t Accuracy 0.2965\n",
      "Epoch [1][10]\t Batch [500][550]\t Training Loss 0.4690\t Accuracy 0.3025\n",
      "\n",
      "Epoch [1]\t Average training loss 0.4651\t Average training accuracy 0.3108\n",
      "Epoch [1]\t Average validation loss 0.4205\t Average validation accuracy 0.4014\n",
      "\n",
      "Epoch [2][10]\t Batch [0][550]\t Training Loss 0.4057\t Accuracy 0.4700\n",
      "Epoch [2][10]\t Batch [50][550]\t Training Loss 0.4178\t Accuracy 0.4163\n",
      "Epoch [2][10]\t Batch [100][550]\t Training Loss 0.4161\t Accuracy 0.4222\n",
      "Epoch [2][10]\t Batch [150][550]\t Training Loss 0.4144\t Accuracy 0.4266\n",
      "Epoch [2][10]\t Batch [200][550]\t Training Loss 0.4134\t Accuracy 0.4255\n",
      "Epoch [2][10]\t Batch [250][550]\t Training Loss 0.4110\t Accuracy 0.4307\n",
      "Epoch [2][10]\t Batch [300][550]\t Training Loss 0.4089\t Accuracy 0.4327\n",
      "Epoch [2][10]\t Batch [350][550]\t Training Loss 0.4077\t Accuracy 0.4357\n",
      "Epoch [2][10]\t Batch [400][550]\t Training Loss 0.4057\t Accuracy 0.4402\n",
      "Epoch [2][10]\t Batch [450][550]\t Training Loss 0.4039\t Accuracy 0.4449\n",
      "Epoch [2][10]\t Batch [500][550]\t Training Loss 0.4024\t Accuracy 0.4478\n",
      "\n",
      "Epoch [2]\t Average training loss 0.4001\t Average training accuracy 0.4532\n",
      "Epoch [2]\t Average validation loss 0.3708\t Average validation accuracy 0.5320\n",
      "\n",
      "Epoch [3][10]\t Batch [0][550]\t Training Loss 0.3590\t Accuracy 0.5900\n",
      "Epoch [3][10]\t Batch [50][550]\t Training Loss 0.3711\t Accuracy 0.5229\n",
      "Epoch [3][10]\t Batch [100][550]\t Training Loss 0.3704\t Accuracy 0.5240\n",
      "Epoch [3][10]\t Batch [150][550]\t Training Loss 0.3700\t Accuracy 0.5228\n",
      "Epoch [3][10]\t Batch [200][550]\t Training Loss 0.3699\t Accuracy 0.5223\n",
      "Epoch [3][10]\t Batch [250][550]\t Training Loss 0.3685\t Accuracy 0.5252\n",
      "Epoch [3][10]\t Batch [300][550]\t Training Loss 0.3673\t Accuracy 0.5263\n",
      "Epoch [3][10]\t Batch [350][550]\t Training Loss 0.3670\t Accuracy 0.5274\n",
      "Epoch [3][10]\t Batch [400][550]\t Training Loss 0.3659\t Accuracy 0.5299\n",
      "Epoch [3][10]\t Batch [450][550]\t Training Loss 0.3649\t Accuracy 0.5318\n",
      "Epoch [3][10]\t Batch [500][550]\t Training Loss 0.3641\t Accuracy 0.5332\n",
      "\n",
      "Epoch [3]\t Average training loss 0.3626\t Average training accuracy 0.5373\n",
      "Epoch [3]\t Average validation loss 0.3407\t Average validation accuracy 0.6088\n",
      "\n",
      "Epoch [4][10]\t Batch [0][550]\t Training Loss 0.3310\t Accuracy 0.6300\n",
      "Epoch [4][10]\t Batch [50][550]\t Training Loss 0.3429\t Accuracy 0.5876\n",
      "Epoch [4][10]\t Batch [100][550]\t Training Loss 0.3426\t Accuracy 0.5865\n",
      "Epoch [4][10]\t Batch [150][550]\t Training Loss 0.3430\t Accuracy 0.5851\n",
      "Epoch [4][10]\t Batch [200][550]\t Training Loss 0.3433\t Accuracy 0.5850\n",
      "Epoch [4][10]\t Batch [250][550]\t Training Loss 0.3423\t Accuracy 0.5865\n",
      "Epoch [4][10]\t Batch [300][550]\t Training Loss 0.3416\t Accuracy 0.5875\n",
      "Epoch [4][10]\t Batch [350][550]\t Training Loss 0.3419\t Accuracy 0.5880\n",
      "Epoch [4][10]\t Batch [400][550]\t Training Loss 0.3412\t Accuracy 0.5899\n",
      "Epoch [4][10]\t Batch [450][550]\t Training Loss 0.3407\t Accuracy 0.5912\n",
      "Epoch [4][10]\t Batch [500][550]\t Training Loss 0.3403\t Accuracy 0.5924\n",
      "\n",
      "Epoch [4]\t Average training loss 0.3392\t Average training accuracy 0.5957\n",
      "Epoch [4]\t Average validation loss 0.3214\t Average validation accuracy 0.6598\n",
      "\n",
      "Epoch [5][10]\t Batch [0][550]\t Training Loss 0.3133\t Accuracy 0.6500\n",
      "Epoch [5][10]\t Batch [50][550]\t Training Loss 0.3248\t Accuracy 0.6306\n",
      "Epoch [5][10]\t Batch [100][550]\t Training Loss 0.3248\t Accuracy 0.6333\n",
      "Epoch [5][10]\t Batch [150][550]\t Training Loss 0.3256\t Accuracy 0.6305\n",
      "Epoch [5][10]\t Batch [200][550]\t Training Loss 0.3261\t Accuracy 0.6306\n",
      "Epoch [5][10]\t Batch [250][550]\t Training Loss 0.3255\t Accuracy 0.6314\n",
      "Epoch [5][10]\t Batch [300][550]\t Training Loss 0.3251\t Accuracy 0.6325\n",
      "Epoch [5][10]\t Batch [350][550]\t Training Loss 0.3257\t Accuracy 0.6325\n",
      "Epoch [5][10]\t Batch [400][550]\t Training Loss 0.3252\t Accuracy 0.6337\n",
      "Epoch [5][10]\t Batch [450][550]\t Training Loss 0.3250\t Accuracy 0.6348\n",
      "Epoch [5][10]\t Batch [500][550]\t Training Loss 0.3248\t Accuracy 0.6357\n",
      "\n",
      "Epoch [5]\t Average training loss 0.3240\t Average training accuracy 0.6383\n",
      "Epoch [5]\t Average validation loss 0.3088\t Average validation accuracy 0.6980\n",
      "\n",
      "Epoch [6][10]\t Batch [0][550]\t Training Loss 0.3018\t Accuracy 0.6900\n",
      "Epoch [6][10]\t Batch [50][550]\t Training Loss 0.3130\t Accuracy 0.6657\n",
      "Epoch [6][10]\t Batch [100][550]\t Training Loss 0.3131\t Accuracy 0.6666\n",
      "Epoch [6][10]\t Batch [150][550]\t Training Loss 0.3142\t Accuracy 0.6648\n",
      "Epoch [6][10]\t Batch [200][550]\t Training Loss 0.3148\t Accuracy 0.6644\n",
      "Epoch [6][10]\t Batch [250][550]\t Training Loss 0.3144\t Accuracy 0.6643\n",
      "Epoch [6][10]\t Batch [300][550]\t Training Loss 0.3142\t Accuracy 0.6651\n",
      "Epoch [6][10]\t Batch [350][550]\t Training Loss 0.3150\t Accuracy 0.6647\n",
      "Epoch [6][10]\t Batch [400][550]\t Training Loss 0.3146\t Accuracy 0.6657\n",
      "Epoch [6][10]\t Batch [450][550]\t Training Loss 0.3146\t Accuracy 0.6663\n",
      "Epoch [6][10]\t Batch [500][550]\t Training Loss 0.3145\t Accuracy 0.6670\n",
      "\n",
      "Epoch [6]\t Average training loss 0.3139\t Average training accuracy 0.6693\n",
      "Epoch [6]\t Average validation loss 0.3004\t Average validation accuracy 0.7224\n",
      "\n",
      "Epoch [7][10]\t Batch [0][550]\t Training Loss 0.2943\t Accuracy 0.7200\n",
      "Epoch [7][10]\t Batch [50][550]\t Training Loss 0.3053\t Accuracy 0.6924\n",
      "Epoch [7][10]\t Batch [100][550]\t Training Loss 0.3054\t Accuracy 0.6938\n",
      "Epoch [7][10]\t Batch [150][550]\t Training Loss 0.3067\t Accuracy 0.6915\n",
      "Epoch [7][10]\t Batch [200][550]\t Training Loss 0.3074\t Accuracy 0.6901\n",
      "Epoch [7][10]\t Batch [250][550]\t Training Loss 0.3071\t Accuracy 0.6901\n",
      "Epoch [7][10]\t Batch [300][550]\t Training Loss 0.3070\t Accuracy 0.6905\n",
      "Epoch [7][10]\t Batch [350][550]\t Training Loss 0.3079\t Accuracy 0.6897\n",
      "Epoch [7][10]\t Batch [400][550]\t Training Loss 0.3077\t Accuracy 0.6903\n",
      "Epoch [7][10]\t Batch [450][550]\t Training Loss 0.3078\t Accuracy 0.6912\n",
      "Epoch [7][10]\t Batch [500][550]\t Training Loss 0.3078\t Accuracy 0.6918\n",
      "\n",
      "Epoch [7]\t Average training loss 0.3073\t Average training accuracy 0.6938\n",
      "Epoch [7]\t Average validation loss 0.2951\t Average validation accuracy 0.7434\n",
      "\n",
      "Epoch [8][10]\t Batch [0][550]\t Training Loss 0.2896\t Accuracy 0.7200\n",
      "Epoch [8][10]\t Batch [50][550]\t Training Loss 0.3003\t Accuracy 0.7094\n",
      "Epoch [8][10]\t Batch [100][550]\t Training Loss 0.3004\t Accuracy 0.7119\n",
      "Epoch [8][10]\t Batch [150][550]\t Training Loss 0.3019\t Accuracy 0.7090\n",
      "Epoch [8][10]\t Batch [200][550]\t Training Loss 0.3026\t Accuracy 0.7075\n"
     ]
    },
    {
     "name": "stdout",
     "output_type": "stream",
     "text": [
      "Epoch [8][10]\t Batch [250][550]\t Training Loss 0.3024\t Accuracy 0.7077\n",
      "Epoch [8][10]\t Batch [300][550]\t Training Loss 0.3024\t Accuracy 0.7077\n",
      "Epoch [8][10]\t Batch [350][550]\t Training Loss 0.3034\t Accuracy 0.7070\n",
      "Epoch [8][10]\t Batch [400][550]\t Training Loss 0.3032\t Accuracy 0.7074\n",
      "Epoch [8][10]\t Batch [450][550]\t Training Loss 0.3034\t Accuracy 0.7080\n",
      "Epoch [8][10]\t Batch [500][550]\t Training Loss 0.3035\t Accuracy 0.7083\n",
      "\n",
      "Epoch [8]\t Average training loss 0.3031\t Average training accuracy 0.7099\n",
      "Epoch [8]\t Average validation loss 0.2918\t Average validation accuracy 0.7578\n",
      "\n",
      "Epoch [9][10]\t Batch [0][550]\t Training Loss 0.2869\t Accuracy 0.7300\n",
      "Epoch [9][10]\t Batch [50][550]\t Training Loss 0.2974\t Accuracy 0.7257\n",
      "Epoch [9][10]\t Batch [100][550]\t Training Loss 0.2975\t Accuracy 0.7281\n",
      "Epoch [9][10]\t Batch [150][550]\t Training Loss 0.2990\t Accuracy 0.7236\n",
      "Epoch [9][10]\t Batch [200][550]\t Training Loss 0.2998\t Accuracy 0.7218\n",
      "Epoch [9][10]\t Batch [250][550]\t Training Loss 0.2997\t Accuracy 0.7216\n",
      "Epoch [9][10]\t Batch [300][550]\t Training Loss 0.2997\t Accuracy 0.7212\n",
      "Epoch [9][10]\t Batch [350][550]\t Training Loss 0.3007\t Accuracy 0.7200\n",
      "Epoch [9][10]\t Batch [400][550]\t Training Loss 0.3007\t Accuracy 0.7206\n",
      "Epoch [9][10]\t Batch [450][550]\t Training Loss 0.3009\t Accuracy 0.7210\n",
      "Epoch [9][10]\t Batch [500][550]\t Training Loss 0.3010\t Accuracy 0.7211\n",
      "\n",
      "Epoch [9]\t Average training loss 0.3007\t Average training accuracy 0.7228\n",
      "Epoch [9]\t Average validation loss 0.2902\t Average validation accuracy 0.7680\n",
      "\n"
     ]
    }
   ],
   "source": [
    "sigmoidMLP, sigmoid_loss, sigmoid_acc = train(sigmoidMLP, criterion, sgd, data_train, max_epoch, batch_size, disp_freq)"
   ]
  },
  {
   "cell_type": "code",
   "execution_count": 9,
   "metadata": {},
   "outputs": [
    {
     "name": "stdout",
     "output_type": "stream",
     "text": [
      "Testing...\n",
      "The test accuracy is 0.7447.\n",
      "\n"
     ]
    }
   ],
   "source": [
    "test(sigmoidMLP, criterion, data_test, batch_size, disp_freq)"
   ]
  },
  {
   "cell_type": "markdown",
   "metadata": {},
   "source": [
    "## 1.2 MLP with Euclidean Loss and ReLU Activation Function\n",
    "Build and train a MLP contraining one hidden layer with 128 units using ReLU activation function and Euclidean loss function.\n",
    "\n",
    "### TODO\n",
    "Before executing the following code, you should complete **layers/relu_layer.py**."
   ]
  },
  {
   "cell_type": "code",
   "execution_count": 10,
   "metadata": {},
   "outputs": [],
   "source": [
    "from layers import ReLULayer\n",
    "\n",
    "reluMLP = Network()\n",
    "# TODO build ReLUMLP with FCLayer and ReLULayer\n",
    "reluMLP.add(FCLayer(784, 128))\n",
    "reluMLP.add(ReLULayer())\n",
    "reluMLP.add(FCLayer(128, 10))"
   ]
  },
  {
   "cell_type": "code",
   "execution_count": 11,
   "metadata": {
    "scrolled": true
   },
   "outputs": [
    {
     "name": "stdout",
     "output_type": "stream",
     "text": [
      "Epoch [0][10]\t Batch [0][550]\t Training Loss 3.1825\t Accuracy 0.1200\n",
      "Epoch [0][10]\t Batch [50][550]\t Training Loss 1.9200\t Accuracy 0.1484\n",
      "Epoch [0][10]\t Batch [100][550]\t Training Loss 1.6409\t Accuracy 0.1621\n",
      "Epoch [0][10]\t Batch [150][550]\t Training Loss 1.4879\t Accuracy 0.1713\n",
      "Epoch [0][10]\t Batch [200][550]\t Training Loss 1.3766\t Accuracy 0.1883\n",
      "Epoch [0][10]\t Batch [250][550]\t Training Loss 1.2880\t Accuracy 0.2033\n",
      "Epoch [0][10]\t Batch [300][550]\t Training Loss 1.2158\t Accuracy 0.2204\n",
      "Epoch [0][10]\t Batch [350][550]\t Training Loss 1.1571\t Accuracy 0.2344\n",
      "Epoch [0][10]\t Batch [400][550]\t Training Loss 1.1069\t Accuracy 0.2470\n",
      "Epoch [0][10]\t Batch [450][550]\t Training Loss 1.0645\t Accuracy 0.2567\n",
      "Epoch [0][10]\t Batch [500][550]\t Training Loss 1.0267\t Accuracy 0.2697\n",
      "\n",
      "Epoch [0]\t Average training loss 0.9928\t Average training accuracy 0.2813\n",
      "Epoch [0]\t Average validation loss 0.6215\t Average validation accuracy 0.4134\n",
      "\n",
      "Epoch [1][10]\t Batch [0][550]\t Training Loss 0.5964\t Accuracy 0.4000\n",
      "Epoch [1][10]\t Batch [50][550]\t Training Loss 0.6091\t Accuracy 0.4155\n",
      "Epoch [1][10]\t Batch [100][550]\t Training Loss 0.6006\t Accuracy 0.4244\n",
      "Epoch [1][10]\t Batch [150][550]\t Training Loss 0.5965\t Accuracy 0.4250\n",
      "Epoch [1][10]\t Batch [200][550]\t Training Loss 0.5886\t Accuracy 0.4339\n",
      "Epoch [1][10]\t Batch [250][550]\t Training Loss 0.5786\t Accuracy 0.4415\n",
      "Epoch [1][10]\t Batch [300][550]\t Training Loss 0.5690\t Accuracy 0.4495\n",
      "Epoch [1][10]\t Batch [350][550]\t Training Loss 0.5612\t Accuracy 0.4552\n",
      "Epoch [1][10]\t Batch [400][550]\t Training Loss 0.5532\t Accuracy 0.4618\n",
      "Epoch [1][10]\t Batch [450][550]\t Training Loss 0.5465\t Accuracy 0.4654\n",
      "Epoch [1][10]\t Batch [500][550]\t Training Loss 0.5398\t Accuracy 0.4714\n",
      "\n",
      "Epoch [1]\t Average training loss 0.5326\t Average training accuracy 0.4777\n",
      "Epoch [1]\t Average validation loss 0.4423\t Average validation accuracy 0.5640\n",
      "\n",
      "Epoch [2][10]\t Batch [0][550]\t Training Loss 0.4213\t Accuracy 0.5600\n",
      "Epoch [2][10]\t Batch [50][550]\t Training Loss 0.4413\t Accuracy 0.5580\n",
      "Epoch [2][10]\t Batch [100][550]\t Training Loss 0.4383\t Accuracy 0.5633\n",
      "Epoch [2][10]\t Batch [150][550]\t Training Loss 0.4395\t Accuracy 0.5553\n",
      "Epoch [2][10]\t Batch [200][550]\t Training Loss 0.4373\t Accuracy 0.5597\n",
      "Epoch [2][10]\t Batch [250][550]\t Training Loss 0.4331\t Accuracy 0.5622\n",
      "Epoch [2][10]\t Batch [300][550]\t Training Loss 0.4289\t Accuracy 0.5662\n",
      "Epoch [2][10]\t Batch [350][550]\t Training Loss 0.4260\t Accuracy 0.5685\n",
      "Epoch [2][10]\t Batch [400][550]\t Training Loss 0.4224\t Accuracy 0.5725\n",
      "Epoch [2][10]\t Batch [450][550]\t Training Loss 0.4196\t Accuracy 0.5745\n",
      "Epoch [2][10]\t Batch [500][550]\t Training Loss 0.4167\t Accuracy 0.5782\n",
      "\n",
      "Epoch [2]\t Average training loss 0.4130\t Average training accuracy 0.5825\n",
      "Epoch [2]\t Average validation loss 0.3610\t Average validation accuracy 0.6520\n",
      "\n",
      "Epoch [3][10]\t Batch [0][550]\t Training Loss 0.3431\t Accuracy 0.6400\n",
      "Epoch [3][10]\t Batch [50][550]\t Training Loss 0.3636\t Accuracy 0.6441\n",
      "Epoch [3][10]\t Batch [100][550]\t Training Loss 0.3624\t Accuracy 0.6511\n",
      "Epoch [3][10]\t Batch [150][550]\t Training Loss 0.3650\t Accuracy 0.6415\n",
      "Epoch [3][10]\t Batch [200][550]\t Training Loss 0.3645\t Accuracy 0.6425\n",
      "Epoch [3][10]\t Batch [250][550]\t Training Loss 0.3621\t Accuracy 0.6426\n",
      "Epoch [3][10]\t Batch [300][550]\t Training Loss 0.3599\t Accuracy 0.6432\n",
      "Epoch [3][10]\t Batch [350][550]\t Training Loss 0.3587\t Accuracy 0.6434\n",
      "Epoch [3][10]\t Batch [400][550]\t Training Loss 0.3565\t Accuracy 0.6461\n",
      "Epoch [3][10]\t Batch [450][550]\t Training Loss 0.3551\t Accuracy 0.6472\n",
      "Epoch [3][10]\t Batch [500][550]\t Training Loss 0.3535\t Accuracy 0.6498\n",
      "\n",
      "Epoch [3]\t Average training loss 0.3512\t Average training accuracy 0.6532\n",
      "Epoch [3]\t Average validation loss 0.3134\t Average validation accuracy 0.7176\n",
      "\n",
      "Epoch [4][10]\t Batch [0][550]\t Training Loss 0.2979\t Accuracy 0.7100\n",
      "Epoch [4][10]\t Batch [50][550]\t Training Loss 0.3179\t Accuracy 0.7039\n",
      "Epoch [4][10]\t Batch [100][550]\t Training Loss 0.3175\t Accuracy 0.7066\n",
      "Epoch [4][10]\t Batch [150][550]\t Training Loss 0.3207\t Accuracy 0.6951\n",
      "Epoch [4][10]\t Batch [200][550]\t Training Loss 0.3209\t Accuracy 0.6950\n",
      "Epoch [4][10]\t Batch [250][550]\t Training Loss 0.3193\t Accuracy 0.6946\n",
      "Epoch [4][10]\t Batch [300][550]\t Training Loss 0.3180\t Accuracy 0.6948\n",
      "Epoch [4][10]\t Batch [350][550]\t Training Loss 0.3177\t Accuracy 0.6936\n",
      "Epoch [4][10]\t Batch [400][550]\t Training Loss 0.3162\t Accuracy 0.6957\n",
      "Epoch [4][10]\t Batch [450][550]\t Training Loss 0.3155\t Accuracy 0.6965\n",
      "Epoch [4][10]\t Batch [500][550]\t Training Loss 0.3145\t Accuracy 0.6983\n",
      "\n",
      "Epoch [4]\t Average training loss 0.3128\t Average training accuracy 0.7011\n",
      "Epoch [4]\t Average validation loss 0.2820\t Average validation accuracy 0.7606\n",
      "\n",
      "Epoch [5][10]\t Batch [0][550]\t Training Loss 0.2683\t Accuracy 0.8000\n",
      "Epoch [5][10]\t Batch [50][550]\t Training Loss 0.2876\t Accuracy 0.7494\n",
      "Epoch [5][10]\t Batch [100][550]\t Training Loss 0.2879\t Accuracy 0.7482\n",
      "Epoch [5][10]\t Batch [150][550]\t Training Loss 0.2912\t Accuracy 0.7370\n",
      "Epoch [5][10]\t Batch [200][550]\t Training Loss 0.2917\t Accuracy 0.7360\n",
      "Epoch [5][10]\t Batch [250][550]\t Training Loss 0.2906\t Accuracy 0.7351\n",
      "Epoch [5][10]\t Batch [300][550]\t Training Loss 0.2899\t Accuracy 0.7340\n",
      "Epoch [5][10]\t Batch [350][550]\t Training Loss 0.2900\t Accuracy 0.7325\n",
      "Epoch [5][10]\t Batch [400][550]\t Training Loss 0.2889\t Accuracy 0.7340\n",
      "Epoch [5][10]\t Batch [450][550]\t Training Loss 0.2885\t Accuracy 0.7336\n",
      "Epoch [5][10]\t Batch [500][550]\t Training Loss 0.2879\t Accuracy 0.7351\n",
      "\n",
      "Epoch [5]\t Average training loss 0.2866\t Average training accuracy 0.7376\n",
      "Epoch [5]\t Average validation loss 0.2598\t Average validation accuracy 0.7914\n",
      "\n",
      "Epoch [6][10]\t Batch [0][550]\t Training Loss 0.2479\t Accuracy 0.8200\n",
      "Epoch [6][10]\t Batch [50][550]\t Training Loss 0.2663\t Accuracy 0.7761\n",
      "Epoch [6][10]\t Batch [100][550]\t Training Loss 0.2668\t Accuracy 0.7748\n",
      "Epoch [6][10]\t Batch [150][550]\t Training Loss 0.2703\t Accuracy 0.7650\n",
      "Epoch [6][10]\t Batch [200][550]\t Training Loss 0.2710\t Accuracy 0.7633\n",
      "Epoch [6][10]\t Batch [250][550]\t Training Loss 0.2701\t Accuracy 0.7623\n",
      "Epoch [6][10]\t Batch [300][550]\t Training Loss 0.2697\t Accuracy 0.7612\n",
      "Epoch [6][10]\t Batch [350][550]\t Training Loss 0.2701\t Accuracy 0.7600\n",
      "Epoch [6][10]\t Batch [400][550]\t Training Loss 0.2692\t Accuracy 0.7611\n",
      "Epoch [6][10]\t Batch [450][550]\t Training Loss 0.2691\t Accuracy 0.7604\n",
      "Epoch [6][10]\t Batch [500][550]\t Training Loss 0.2687\t Accuracy 0.7616\n",
      "\n",
      "Epoch [6]\t Average training loss 0.2677\t Average training accuracy 0.7635\n",
      "Epoch [6]\t Average validation loss 0.2434\t Average validation accuracy 0.8154\n",
      "\n",
      "Epoch [7][10]\t Batch [0][550]\t Training Loss 0.2332\t Accuracy 0.8200\n",
      "Epoch [7][10]\t Batch [50][550]\t Training Loss 0.2505\t Accuracy 0.8004\n",
      "Epoch [7][10]\t Batch [100][550]\t Training Loss 0.2513\t Accuracy 0.7967\n",
      "Epoch [7][10]\t Batch [150][550]\t Training Loss 0.2547\t Accuracy 0.7853\n",
      "Epoch [7][10]\t Batch [200][550]\t Training Loss 0.2555\t Accuracy 0.7844\n",
      "Epoch [7][10]\t Batch [250][550]\t Training Loss 0.2548\t Accuracy 0.7830\n",
      "Epoch [7][10]\t Batch [300][550]\t Training Loss 0.2546\t Accuracy 0.7816\n",
      "Epoch [7][10]\t Batch [350][550]\t Training Loss 0.2552\t Accuracy 0.7801\n",
      "Epoch [7][10]\t Batch [400][550]\t Training Loss 0.2545\t Accuracy 0.7814\n",
      "Epoch [7][10]\t Batch [450][550]\t Training Loss 0.2546\t Accuracy 0.7813\n",
      "Epoch [7][10]\t Batch [500][550]\t Training Loss 0.2543\t Accuracy 0.7818\n",
      "\n",
      "Epoch [7]\t Average training loss 0.2534\t Average training accuracy 0.7830\n",
      "Epoch [7]\t Average validation loss 0.2310\t Average validation accuracy 0.8330\n",
      "\n",
      "Epoch [8][10]\t Batch [0][550]\t Training Loss 0.2220\t Accuracy 0.8300\n",
      "Epoch [8][10]\t Batch [50][550]\t Training Loss 0.2385\t Accuracy 0.8120\n",
      "Epoch [8][10]\t Batch [100][550]\t Training Loss 0.2394\t Accuracy 0.8107\n",
      "Epoch [8][10]\t Batch [150][550]\t Training Loss 0.2429\t Accuracy 0.8015\n",
      "Epoch [8][10]\t Batch [200][550]\t Training Loss 0.2437\t Accuracy 0.7993\n",
      "Epoch [8][10]\t Batch [250][550]\t Training Loss 0.2432\t Accuracy 0.7980\n",
      "Epoch [8][10]\t Batch [300][550]\t Training Loss 0.2431\t Accuracy 0.7968\n",
      "Epoch [8][10]\t Batch [350][550]\t Training Loss 0.2438\t Accuracy 0.7954\n",
      "Epoch [8][10]\t Batch [400][550]\t Training Loss 0.2433\t Accuracy 0.7971\n",
      "Epoch [8][10]\t Batch [450][550]\t Training Loss 0.2435\t Accuracy 0.7967\n",
      "Epoch [8][10]\t Batch [500][550]\t Training Loss 0.2433\t Accuracy 0.7972\n"
     ]
    },
    {
     "name": "stdout",
     "output_type": "stream",
     "text": [
      "\n",
      "Epoch [8]\t Average training loss 0.2425\t Average training accuracy 0.7983\n",
      "Epoch [8]\t Average validation loss 0.2214\t Average validation accuracy 0.8464\n",
      "\n",
      "Epoch [9][10]\t Batch [0][550]\t Training Loss 0.2133\t Accuracy 0.8500\n",
      "Epoch [9][10]\t Batch [50][550]\t Training Loss 0.2293\t Accuracy 0.8253\n",
      "Epoch [9][10]\t Batch [100][550]\t Training Loss 0.2303\t Accuracy 0.8225\n",
      "Epoch [9][10]\t Batch [150][550]\t Training Loss 0.2338\t Accuracy 0.8128\n",
      "Epoch [9][10]\t Batch [200][550]\t Training Loss 0.2346\t Accuracy 0.8109\n",
      "Epoch [9][10]\t Batch [250][550]\t Training Loss 0.2342\t Accuracy 0.8095\n",
      "Epoch [9][10]\t Batch [300][550]\t Training Loss 0.2342\t Accuracy 0.8081\n",
      "Epoch [9][10]\t Batch [350][550]\t Training Loss 0.2351\t Accuracy 0.8071\n",
      "Epoch [9][10]\t Batch [400][550]\t Training Loss 0.2346\t Accuracy 0.8083\n",
      "Epoch [9][10]\t Batch [450][550]\t Training Loss 0.2349\t Accuracy 0.8079\n",
      "Epoch [9][10]\t Batch [500][550]\t Training Loss 0.2348\t Accuracy 0.8083\n",
      "\n",
      "Epoch [9]\t Average training loss 0.2342\t Average training accuracy 0.8093\n",
      "Epoch [9]\t Average validation loss 0.2141\t Average validation accuracy 0.8550\n",
      "\n"
     ]
    }
   ],
   "source": [
    "reluMLP, relu_loss, relu_acc = train(reluMLP, criterion, sgd, data_train, max_epoch, batch_size, disp_freq)"
   ]
  },
  {
   "cell_type": "code",
   "execution_count": 12,
   "metadata": {},
   "outputs": [
    {
     "name": "stdout",
     "output_type": "stream",
     "text": [
      "Testing...\n",
      "The test accuracy is 0.8291.\n",
      "\n"
     ]
    }
   ],
   "source": [
    "test(reluMLP, criterion, data_test, batch_size, disp_freq)"
   ]
  },
  {
   "cell_type": "markdown",
   "metadata": {},
   "source": [
    "## Plot"
   ]
  },
  {
   "cell_type": "code",
   "execution_count": 13,
   "metadata": {},
   "outputs": [
    {
     "data": {
      "image/png": "[encoded data removed]",
      "text/plain": [
       "<Figure size 432x288 with 1 Axes>"
      ]
     },
     "metadata": {
      "needs_background": "light"
     },
     "output_type": "display_data"
    },
    {
     "data": {
      "image/png": "[encoded data removed]",
      "text/plain": [
       "<Figure size 432x288 with 1 Axes>"
      ]
     },
     "metadata": {
      "needs_background": "light"
     },
     "output_type": "display_data"
    }
   ],
   "source": [
    "plot_loss_and_acc({'Sigmoid': [sigmoid_loss, sigmoid_acc],\n",
    "                   'relu': [relu_loss, relu_acc]})"
   ]
  },
  {
   "cell_type": "markdown",
   "metadata": {},
   "source": [
    "## 2. MLP with Softmax Cross-Entropy Loss\n",
    "In part-2, you need to train a MLP with **Softmax Cross-Entropy Loss**.  \n",
    "**Sigmoid Activation Function** and **ReLU Activation Function** will be used respectively again.\n",
    "### TODO\n",
    "Before executing the following code, you should complete **criterion/softmax_cross_entropy_loss.py**."
   ]
  },
  {
   "cell_type": "code",
   "execution_count": 14,
   "metadata": {},
   "outputs": [],
   "source": [
    "from criterion import SoftmaxCrossEntropyLossLayer\n",
    "\n",
    "criterion = SoftmaxCrossEntropyLossLayer()\n",
    "\n",
    "sgd = SGD(learning_rate_SGD, weight_decay)"
   ]
  },
  {
   "cell_type": "markdown",
   "metadata": {},
   "source": [
    "## 2.1 MLP with Softmax Cross-Entropy Loss and Sigmoid Activation Function\n",
    "Build and train a MLP contraining one hidden layer with 128 units using Sigmoid activation function and Softmax cross-entropy loss function."
   ]
  },
  {
   "cell_type": "code",
   "execution_count": 15,
   "metadata": {},
   "outputs": [],
   "source": [
    "sigmoidMLP = Network()\n",
    "# Build MLP with FCLayer and SigmoidLayer\n",
    "# 128 is the number of hidden units, you can change by your own\n",
    "sigmoidMLP.add(FCLayer(784, 128))\n",
    "sigmoidMLP.add(SigmoidLayer())\n",
    "sigmoidMLP.add(FCLayer(128, 10))"
   ]
  },
  {
   "cell_type": "markdown",
   "metadata": {},
   "source": [
    "### Train"
   ]
  },
  {
   "cell_type": "code",
   "execution_count": 16,
   "metadata": {
    "scrolled": true
   },
   "outputs": [
    {
     "name": "stdout",
     "output_type": "stream",
     "text": [
      "Epoch [0][10]\t Batch [0][550]\t Training Loss 2.6216\t Accuracy 0.1100\n",
      "Epoch [0][10]\t Batch [50][550]\t Training Loss 2.5924\t Accuracy 0.0904\n",
      "Epoch [0][10]\t Batch [100][550]\t Training Loss 2.5555\t Accuracy 0.0952\n",
      "Epoch [0][10]\t Batch [150][550]\t Training Loss 2.5213\t Accuracy 0.0979\n",
      "Epoch [0][10]\t Batch [200][550]\t Training Loss 2.4944\t Accuracy 0.1012\n",
      "Epoch [0][10]\t Batch [250][550]\t Training Loss 2.4727\t Accuracy 0.1010\n",
      "Epoch [0][10]\t Batch [300][550]\t Training Loss 2.4527\t Accuracy 0.1021\n",
      "Epoch [0][10]\t Batch [350][550]\t Training Loss 2.4362\t Accuracy 0.1035\n",
      "Epoch [0][10]\t Batch [400][550]\t Training Loss 2.4220\t Accuracy 0.1049\n",
      "Epoch [0][10]\t Batch [450][550]\t Training Loss 2.4097\t Accuracy 0.1055\n",
      "Epoch [0][10]\t Batch [500][550]\t Training Loss 2.3975\t Accuracy 0.1074\n",
      "\n",
      "Epoch [0]\t Average training loss 2.3865\t Average training accuracy 0.1102\n",
      "Epoch [0]\t Average validation loss 2.2638\t Average validation accuracy 0.1578\n",
      "\n",
      "Epoch [1][10]\t Batch [0][550]\t Training Loss 2.2599\t Accuracy 0.1500\n",
      "Epoch [1][10]\t Batch [50][550]\t Training Loss 2.2676\t Accuracy 0.1433\n",
      "Epoch [1][10]\t Batch [100][550]\t Training Loss 2.2597\t Accuracy 0.1519\n",
      "Epoch [1][10]\t Batch [150][550]\t Training Loss 2.2527\t Accuracy 0.1601\n",
      "Epoch [1][10]\t Batch [200][550]\t Training Loss 2.2475\t Accuracy 0.1698\n",
      "Epoch [1][10]\t Batch [250][550]\t Training Loss 2.2427\t Accuracy 0.1788\n",
      "Epoch [1][10]\t Batch [300][550]\t Training Loss 2.2368\t Accuracy 0.1906\n",
      "Epoch [1][10]\t Batch [350][550]\t Training Loss 2.2329\t Accuracy 0.1983\n",
      "Epoch [1][10]\t Batch [400][550]\t Training Loss 2.2288\t Accuracy 0.2068\n",
      "Epoch [1][10]\t Batch [450][550]\t Training Loss 2.2253\t Accuracy 0.2135\n",
      "Epoch [1][10]\t Batch [500][550]\t Training Loss 2.2210\t Accuracy 0.2235\n",
      "\n",
      "Epoch [1]\t Average training loss 2.2167\t Average training accuracy 0.2334\n",
      "Epoch [1]\t Average validation loss 2.1599\t Average validation accuracy 0.3492\n",
      "\n",
      "Epoch [2][10]\t Batch [0][550]\t Training Loss 2.1572\t Accuracy 0.3400\n",
      "Epoch [2][10]\t Batch [50][550]\t Training Loss 2.1675\t Accuracy 0.3447\n",
      "Epoch [2][10]\t Batch [100][550]\t Training Loss 2.1615\t Accuracy 0.3570\n",
      "Epoch [2][10]\t Batch [150][550]\t Training Loss 2.1571\t Accuracy 0.3675\n",
      "Epoch [2][10]\t Batch [200][550]\t Training Loss 2.1540\t Accuracy 0.3767\n",
      "Epoch [2][10]\t Batch [250][550]\t Training Loss 2.1505\t Accuracy 0.3856\n",
      "Epoch [2][10]\t Batch [300][550]\t Training Loss 2.1460\t Accuracy 0.3946\n",
      "Epoch [2][10]\t Batch [350][550]\t Training Loss 2.1438\t Accuracy 0.3992\n",
      "Epoch [2][10]\t Batch [400][550]\t Training Loss 2.1409\t Accuracy 0.4050\n",
      "Epoch [2][10]\t Batch [450][550]\t Training Loss 2.1387\t Accuracy 0.4098\n",
      "Epoch [2][10]\t Batch [500][550]\t Training Loss 2.1357\t Accuracy 0.4165\n",
      "\n",
      "Epoch [2]\t Average training loss 2.1324\t Average training accuracy 0.4229\n",
      "Epoch [2]\t Average validation loss 2.0848\t Average validation accuracy 0.5168\n",
      "\n",
      "Epoch [3][10]\t Batch [0][550]\t Training Loss 2.0816\t Accuracy 0.5200\n",
      "Epoch [3][10]\t Batch [50][550]\t Training Loss 2.0946\t Accuracy 0.5039\n",
      "Epoch [3][10]\t Batch [100][550]\t Training Loss 2.0897\t Accuracy 0.5039\n",
      "Epoch [3][10]\t Batch [150][550]\t Training Loss 2.0868\t Accuracy 0.5052\n",
      "Epoch [3][10]\t Batch [200][550]\t Training Loss 2.0849\t Accuracy 0.5101\n",
      "Epoch [3][10]\t Batch [250][550]\t Training Loss 2.0822\t Accuracy 0.5138\n",
      "Epoch [3][10]\t Batch [300][550]\t Training Loss 2.0785\t Accuracy 0.5178\n",
      "Epoch [3][10]\t Batch [350][550]\t Training Loss 2.0776\t Accuracy 0.5179\n",
      "Epoch [3][10]\t Batch [400][550]\t Training Loss 2.0753\t Accuracy 0.5209\n",
      "Epoch [3][10]\t Batch [450][550]\t Training Loss 2.0740\t Accuracy 0.5230\n",
      "Epoch [3][10]\t Batch [500][550]\t Training Loss 2.0718\t Accuracy 0.5272\n",
      "\n",
      "Epoch [3]\t Average training loss 2.0693\t Average training accuracy 0.5307\n",
      "Epoch [3]\t Average validation loss 2.0277\t Average validation accuracy 0.6000\n",
      "\n",
      "Epoch [4][10]\t Batch [0][550]\t Training Loss 2.0240\t Accuracy 0.6700\n",
      "Epoch [4][10]\t Batch [50][550]\t Training Loss 2.0390\t Accuracy 0.5800\n",
      "Epoch [4][10]\t Batch [100][550]\t Training Loss 2.0351\t Accuracy 0.5779\n",
      "Epoch [4][10]\t Batch [150][550]\t Training Loss 2.0333\t Accuracy 0.5751\n",
      "Epoch [4][10]\t Batch [200][550]\t Training Loss 2.0323\t Accuracy 0.5773\n",
      "Epoch [4][10]\t Batch [250][550]\t Training Loss 2.0303\t Accuracy 0.5798\n",
      "Epoch [4][10]\t Batch [300][550]\t Training Loss 2.0271\t Accuracy 0.5825\n",
      "Epoch [4][10]\t Batch [350][550]\t Training Loss 2.0271\t Accuracy 0.5812\n",
      "Epoch [4][10]\t Batch [400][550]\t Training Loss 2.0254\t Accuracy 0.5837\n",
      "Epoch [4][10]\t Batch [450][550]\t Training Loss 2.0248\t Accuracy 0.5849\n",
      "Epoch [4][10]\t Batch [500][550]\t Training Loss 2.0231\t Accuracy 0.5882\n",
      "\n",
      "Epoch [4]\t Average training loss 2.0212\t Average training accuracy 0.5905\n",
      "Epoch [4]\t Average validation loss 1.9843\t Average validation accuracy 0.6498\n",
      "\n",
      "Epoch [5][10]\t Batch [0][550]\t Training Loss 1.9802\t Accuracy 0.6900\n",
      "Epoch [5][10]\t Batch [50][550]\t Training Loss 1.9967\t Accuracy 0.6271\n",
      "Epoch [5][10]\t Batch [100][550]\t Training Loss 1.9936\t Accuracy 0.6243\n",
      "Epoch [5][10]\t Batch [150][550]\t Training Loss 1.9927\t Accuracy 0.6195\n",
      "Epoch [5][10]\t Batch [200][550]\t Training Loss 1.9923\t Accuracy 0.6200\n",
      "Epoch [5][10]\t Batch [250][550]\t Training Loss 1.9908\t Accuracy 0.6224\n",
      "Epoch [5][10]\t Batch [300][550]\t Training Loss 1.9881\t Accuracy 0.6241\n",
      "Epoch [5][10]\t Batch [350][550]\t Training Loss 1.9888\t Accuracy 0.6220\n",
      "Epoch [5][10]\t Batch [400][550]\t Training Loss 1.9875\t Accuracy 0.6241\n",
      "Epoch [5][10]\t Batch [450][550]\t Training Loss 1.9874\t Accuracy 0.6243\n",
      "Epoch [5][10]\t Batch [500][550]\t Training Loss 1.9862\t Accuracy 0.6264\n",
      "\n",
      "Epoch [5]\t Average training loss 1.9847\t Average training accuracy 0.6279\n",
      "Epoch [5]\t Average validation loss 1.9515\t Average validation accuracy 0.6838\n",
      "\n",
      "Epoch [6][10]\t Batch [0][550]\t Training Loss 1.9470\t Accuracy 0.7100\n",
      "Epoch [6][10]\t Batch [50][550]\t Training Loss 1.9647\t Accuracy 0.6531\n",
      "Epoch [6][10]\t Batch [100][550]\t Training Loss 1.9621\t Accuracy 0.6500\n",
      "Epoch [6][10]\t Batch [150][550]\t Training Loss 1.9620\t Accuracy 0.6454\n",
      "Epoch [6][10]\t Batch [200][550]\t Training Loss 1.9621\t Accuracy 0.6448\n",
      "Epoch [6][10]\t Batch [250][550]\t Training Loss 1.9609\t Accuracy 0.6467\n",
      "Epoch [6][10]\t Batch [300][550]\t Training Loss 1.9586\t Accuracy 0.6482\n",
      "Epoch [6][10]\t Batch [350][550]\t Training Loss 1.9599\t Accuracy 0.6462\n",
      "Epoch [6][10]\t Batch [400][550]\t Training Loss 1.9589\t Accuracy 0.6483\n",
      "Epoch [6][10]\t Batch [450][550]\t Training Loss 1.9592\t Accuracy 0.6481\n",
      "Epoch [6][10]\t Batch [500][550]\t Training Loss 1.9583\t Accuracy 0.6494\n",
      "\n",
      "Epoch [6]\t Average training loss 1.9572\t Average training accuracy 0.6506\n",
      "Epoch [6]\t Average validation loss 1.9269\t Average validation accuracy 0.7030\n",
      "\n",
      "Epoch [7][10]\t Batch [0][550]\t Training Loss 1.9221\t Accuracy 0.7400\n",
      "Epoch [7][10]\t Batch [50][550]\t Training Loss 1.9405\t Accuracy 0.6680\n",
      "Epoch [7][10]\t Batch [100][550]\t Training Loss 1.9385\t Accuracy 0.6652\n",
      "Epoch [7][10]\t Batch [150][550]\t Training Loss 1.9389\t Accuracy 0.6615\n",
      "Epoch [7][10]\t Batch [200][550]\t Training Loss 1.9394\t Accuracy 0.6605\n",
      "Epoch [7][10]\t Batch [250][550]\t Training Loss 1.9385\t Accuracy 0.6625\n",
      "Epoch [7][10]\t Batch [300][550]\t Training Loss 1.9365\t Accuracy 0.6639\n",
      "Epoch [7][10]\t Batch [350][550]\t Training Loss 1.9382\t Accuracy 0.6614\n",
      "Epoch [7][10]\t Batch [400][550]\t Training Loss 1.9374\t Accuracy 0.6634\n",
      "Epoch [7][10]\t Batch [450][550]\t Training Loss 1.9380\t Accuracy 0.6631\n",
      "Epoch [7][10]\t Batch [500][550]\t Training Loss 1.9374\t Accuracy 0.6643\n",
      "\n",
      "Epoch [7]\t Average training loss 1.9366\t Average training accuracy 0.6654\n",
      "Epoch [7]\t Average validation loss 1.9086\t Average validation accuracy 0.7122\n",
      "\n",
      "Epoch [8][10]\t Batch [0][550]\t Training Loss 1.9036\t Accuracy 0.7300\n",
      "Epoch [8][10]\t Batch [50][550]\t Training Loss 1.9226\t Accuracy 0.6780\n",
      "Epoch [8][10]\t Batch [100][550]\t Training Loss 1.9209\t Accuracy 0.6750\n",
      "Epoch [8][10]\t Batch [150][550]\t Training Loss 1.9218\t Accuracy 0.6715\n",
      "Epoch [8][10]\t Batch [200][550]\t Training Loss 1.9226\t Accuracy 0.6704\n",
      "Epoch [8][10]\t Batch [250][550]\t Training Loss 1.9219\t Accuracy 0.6722\n",
      "Epoch [8][10]\t Batch [300][550]\t Training Loss 1.9202\t Accuracy 0.6731\n",
      "Epoch [8][10]\t Batch [350][550]\t Training Loss 1.9222\t Accuracy 0.6710\n",
      "Epoch [8][10]\t Batch [400][550]\t Training Loss 1.9216\t Accuracy 0.6729\n",
      "Epoch [8][10]\t Batch [450][550]\t Training Loss 1.9224\t Accuracy 0.6728\n",
      "Epoch [8][10]\t Batch [500][550]\t Training Loss 1.9221\t Accuracy 0.6734\n"
     ]
    },
    {
     "name": "stdout",
     "output_type": "stream",
     "text": [
      "\n",
      "Epoch [8]\t Average training loss 1.9214\t Average training accuracy 0.6744\n",
      "Epoch [8]\t Average validation loss 1.8954\t Average validation accuracy 0.7192\n",
      "\n",
      "Epoch [9][10]\t Batch [0][550]\t Training Loss 1.8902\t Accuracy 0.7500\n",
      "Epoch [9][10]\t Batch [50][550]\t Training Loss 1.9095\t Accuracy 0.6865\n",
      "Epoch [9][10]\t Batch [100][550]\t Training Loss 1.9082\t Accuracy 0.6832\n",
      "Epoch [9][10]\t Batch [150][550]\t Training Loss 1.9094\t Accuracy 0.6793\n",
      "Epoch [9][10]\t Batch [200][550]\t Training Loss 1.9105\t Accuracy 0.6779\n",
      "Epoch [9][10]\t Batch [250][550]\t Training Loss 1.9099\t Accuracy 0.6793\n",
      "Epoch [9][10]\t Batch [300][550]\t Training Loss 1.9085\t Accuracy 0.6795\n",
      "Epoch [9][10]\t Batch [350][550]\t Training Loss 1.9107\t Accuracy 0.6774\n",
      "Epoch [9][10]\t Batch [400][550]\t Training Loss 1.9102\t Accuracy 0.6791\n",
      "Epoch [9][10]\t Batch [450][550]\t Training Loss 1.9112\t Accuracy 0.6791\n",
      "Epoch [9][10]\t Batch [500][550]\t Training Loss 1.9110\t Accuracy 0.6796\n",
      "\n",
      "Epoch [9]\t Average training loss 1.9105\t Average training accuracy 0.6807\n",
      "Epoch [9]\t Average validation loss 1.8862\t Average validation accuracy 0.7232\n",
      "\n"
     ]
    }
   ],
   "source": [
    "sigmoidMLP, sigmoid_loss, sigmoid_acc = train(sigmoidMLP, criterion, sgd, data_train, max_epoch, batch_size, disp_freq)"
   ]
  },
  {
   "cell_type": "markdown",
   "metadata": {},
   "source": [
    "### Test"
   ]
  },
  {
   "cell_type": "code",
   "execution_count": 17,
   "metadata": {},
   "outputs": [
    {
     "name": "stdout",
     "output_type": "stream",
     "text": [
      "Testing...\n",
      "The test accuracy is 0.7041.\n",
      "\n"
     ]
    }
   ],
   "source": [
    "test(sigmoidMLP, criterion, data_test, batch_size, disp_freq)"
   ]
  },
  {
   "cell_type": "markdown",
   "metadata": {},
   "source": [
    "## 2.2 MLP with Softmax Cross-Entropy Loss and ReLU Activation Function\n",
    "Build and train a MLP contraining one hidden layer with 128 units using ReLU activation function and Softmax cross-entropy loss function."
   ]
  },
  {
   "cell_type": "code",
   "execution_count": 18,
   "metadata": {},
   "outputs": [],
   "source": [
    "reluMLP = Network()\n",
    "# Build ReLUMLP with FCLayer and ReLULayer\n",
    "# 128 is the number of hidden units, you can change by your own\n",
    "reluMLP.add(FCLayer(784, 128))\n",
    "reluMLP.add(ReLULayer())\n",
    "reluMLP.add(FCLayer(128, 10))"
   ]
  },
  {
   "cell_type": "code",
   "execution_count": 19,
   "metadata": {
    "scrolled": true
   },
   "outputs": [
    {
     "name": "stdout",
     "output_type": "stream",
     "text": [
      "Epoch [0][10]\t Batch [0][550]\t Training Loss 2.5023\t Accuracy 0.1700\n",
      "Epoch [0][10]\t Batch [50][550]\t Training Loss 2.4209\t Accuracy 0.1404\n",
      "Epoch [0][10]\t Batch [100][550]\t Training Loss 2.3411\t Accuracy 0.1650\n",
      "Epoch [0][10]\t Batch [150][550]\t Training Loss 2.2730\t Accuracy 0.1899\n",
      "Epoch [0][10]\t Batch [200][550]\t Training Loss 2.2202\t Accuracy 0.2127\n",
      "Epoch [0][10]\t Batch [250][550]\t Training Loss 2.1682\t Accuracy 0.2405\n",
      "Epoch [0][10]\t Batch [300][550]\t Training Loss 2.1213\t Accuracy 0.2692\n",
      "Epoch [0][10]\t Batch [350][550]\t Training Loss 2.0810\t Accuracy 0.2936\n",
      "Epoch [0][10]\t Batch [400][550]\t Training Loss 2.0416\t Accuracy 0.3181\n",
      "Epoch [0][10]\t Batch [450][550]\t Training Loss 2.0072\t Accuracy 0.3412\n",
      "Epoch [0][10]\t Batch [500][550]\t Training Loss 1.9746\t Accuracy 0.3611\n",
      "\n",
      "Epoch [0]\t Average training loss 1.9424\t Average training accuracy 0.3800\n",
      "Epoch [0]\t Average validation loss 1.5509\t Average validation accuracy 0.6124\n",
      "\n",
      "Epoch [1][10]\t Batch [0][550]\t Training Loss 1.5342\t Accuracy 0.6400\n",
      "Epoch [1][10]\t Batch [50][550]\t Training Loss 1.5592\t Accuracy 0.6053\n",
      "Epoch [1][10]\t Batch [100][550]\t Training Loss 1.5361\t Accuracy 0.6169\n",
      "Epoch [1][10]\t Batch [150][550]\t Training Loss 1.5196\t Accuracy 0.6204\n",
      "Epoch [1][10]\t Batch [200][550]\t Training Loss 1.5086\t Accuracy 0.6242\n",
      "Epoch [1][10]\t Batch [250][550]\t Training Loss 1.4899\t Accuracy 0.6300\n",
      "Epoch [1][10]\t Batch [300][550]\t Training Loss 1.4729\t Accuracy 0.6361\n",
      "Epoch [1][10]\t Batch [350][550]\t Training Loss 1.4620\t Accuracy 0.6384\n",
      "Epoch [1][10]\t Batch [400][550]\t Training Loss 1.4459\t Accuracy 0.6443\n",
      "Epoch [1][10]\t Batch [450][550]\t Training Loss 1.4335\t Accuracy 0.6487\n",
      "Epoch [1][10]\t Batch [500][550]\t Training Loss 1.4204\t Accuracy 0.6530\n",
      "\n",
      "Epoch [1]\t Average training loss 1.4058\t Average training accuracy 0.6589\n",
      "Epoch [1]\t Average validation loss 1.1925\t Average validation accuracy 0.7534\n",
      "\n",
      "Epoch [2][10]\t Batch [0][550]\t Training Loss 1.1766\t Accuracy 0.7500\n",
      "Epoch [2][10]\t Batch [50][550]\t Training Loss 1.2240\t Accuracy 0.7253\n",
      "Epoch [2][10]\t Batch [100][550]\t Training Loss 1.2124\t Accuracy 0.7322\n",
      "Epoch [2][10]\t Batch [150][550]\t Training Loss 1.2079\t Accuracy 0.7296\n",
      "Epoch [2][10]\t Batch [200][550]\t Training Loss 1.2067\t Accuracy 0.7301\n",
      "Epoch [2][10]\t Batch [250][550]\t Training Loss 1.1963\t Accuracy 0.7314\n",
      "Epoch [2][10]\t Batch [300][550]\t Training Loss 1.1873\t Accuracy 0.7330\n",
      "Epoch [2][10]\t Batch [350][550]\t Training Loss 1.1850\t Accuracy 0.7339\n",
      "Epoch [2][10]\t Batch [400][550]\t Training Loss 1.1762\t Accuracy 0.7369\n",
      "Epoch [2][10]\t Batch [450][550]\t Training Loss 1.1707\t Accuracy 0.7384\n",
      "Epoch [2][10]\t Batch [500][550]\t Training Loss 1.1642\t Accuracy 0.7400\n",
      "\n",
      "Epoch [2]\t Average training loss 1.1558\t Average training accuracy 0.7432\n",
      "Epoch [2]\t Average validation loss 1.0039\t Average validation accuracy 0.8070\n",
      "\n",
      "Epoch [3][10]\t Batch [0][550]\t Training Loss 0.9950\t Accuracy 0.8000\n",
      "Epoch [3][10]\t Batch [50][550]\t Training Loss 1.0461\t Accuracy 0.7804\n",
      "Epoch [3][10]\t Batch [100][550]\t Training Loss 1.0410\t Accuracy 0.7825\n",
      "Epoch [3][10]\t Batch [150][550]\t Training Loss 1.0420\t Accuracy 0.7779\n",
      "Epoch [3][10]\t Batch [200][550]\t Training Loss 1.0446\t Accuracy 0.7768\n",
      "Epoch [3][10]\t Batch [250][550]\t Training Loss 1.0379\t Accuracy 0.7776\n",
      "Epoch [3][10]\t Batch [300][550]\t Training Loss 1.0327\t Accuracy 0.7782\n",
      "Epoch [3][10]\t Batch [350][550]\t Training Loss 1.0342\t Accuracy 0.7784\n",
      "Epoch [3][10]\t Batch [400][550]\t Training Loss 1.0290\t Accuracy 0.7801\n",
      "Epoch [3][10]\t Batch [450][550]\t Training Loss 1.0266\t Accuracy 0.7808\n",
      "Epoch [3][10]\t Batch [500][550]\t Training Loss 1.0232\t Accuracy 0.7813\n",
      "\n",
      "Epoch [3]\t Average training loss 1.0178\t Average training accuracy 0.7833\n",
      "Epoch [3]\t Average validation loss 0.8961\t Average validation accuracy 0.8410\n",
      "\n",
      "Epoch [4][10]\t Batch [0][550]\t Training Loss 0.8942\t Accuracy 0.8400\n",
      "Epoch [4][10]\t Batch [50][550]\t Training Loss 0.9431\t Accuracy 0.8090\n",
      "Epoch [4][10]\t Batch [100][550]\t Training Loss 0.9419\t Accuracy 0.8085\n",
      "Epoch [4][10]\t Batch [150][550]\t Training Loss 0.9458\t Accuracy 0.8042\n",
      "Epoch [4][10]\t Batch [200][550]\t Training Loss 0.9499\t Accuracy 0.8025\n",
      "Epoch [4][10]\t Batch [250][550]\t Training Loss 0.9451\t Accuracy 0.8026\n",
      "Epoch [4][10]\t Batch [300][550]\t Training Loss 0.9418\t Accuracy 0.8029\n",
      "Epoch [4][10]\t Batch [350][550]\t Training Loss 0.9453\t Accuracy 0.8028\n",
      "Epoch [4][10]\t Batch [400][550]\t Training Loss 0.9419\t Accuracy 0.8042\n",
      "Epoch [4][10]\t Batch [450][550]\t Training Loss 0.9412\t Accuracy 0.8048\n",
      "Epoch [4][10]\t Batch [500][550]\t Training Loss 0.9394\t Accuracy 0.8049\n",
      "\n",
      "Epoch [4]\t Average training loss 0.9357\t Average training accuracy 0.8063\n",
      "Epoch [4]\t Average validation loss 0.8303\t Average validation accuracy 0.8580\n",
      "\n",
      "Epoch [5][10]\t Batch [0][550]\t Training Loss 0.8349\t Accuracy 0.8400\n",
      "Epoch [5][10]\t Batch [50][550]\t Training Loss 0.8798\t Accuracy 0.8265\n",
      "Epoch [5][10]\t Batch [100][550]\t Training Loss 0.8810\t Accuracy 0.8256\n",
      "Epoch [5][10]\t Batch [150][550]\t Training Loss 0.8866\t Accuracy 0.8205\n",
      "Epoch [5][10]\t Batch [200][550]\t Training Loss 0.8913\t Accuracy 0.8182\n",
      "Epoch [5][10]\t Batch [250][550]\t Training Loss 0.8876\t Accuracy 0.8188\n",
      "Epoch [5][10]\t Batch [300][550]\t Training Loss 0.8854\t Accuracy 0.8190\n",
      "Epoch [5][10]\t Batch [350][550]\t Training Loss 0.8899\t Accuracy 0.8184\n",
      "Epoch [5][10]\t Batch [400][550]\t Training Loss 0.8876\t Accuracy 0.8195\n",
      "Epoch [5][10]\t Batch [450][550]\t Training Loss 0.8878\t Accuracy 0.8200\n",
      "Epoch [5][10]\t Batch [500][550]\t Training Loss 0.8870\t Accuracy 0.8198\n",
      "\n",
      "Epoch [5]\t Average training loss 0.8843\t Average training accuracy 0.8206\n",
      "Epoch [5]\t Average validation loss 0.7886\t Average validation accuracy 0.8690\n",
      "\n",
      "Epoch [6][10]\t Batch [0][550]\t Training Loss 0.7979\t Accuracy 0.8400\n",
      "Epoch [6][10]\t Batch [50][550]\t Training Loss 0.8393\t Accuracy 0.8341\n",
      "Epoch [6][10]\t Batch [100][550]\t Training Loss 0.8420\t Accuracy 0.8353\n",
      "Epoch [6][10]\t Batch [150][550]\t Training Loss 0.8487\t Accuracy 0.8299\n",
      "Epoch [6][10]\t Batch [200][550]\t Training Loss 0.8536\t Accuracy 0.8281\n",
      "Epoch [6][10]\t Batch [250][550]\t Training Loss 0.8506\t Accuracy 0.8292\n",
      "Epoch [6][10]\t Batch [300][550]\t Training Loss 0.8490\t Accuracy 0.8291\n",
      "Epoch [6][10]\t Batch [350][550]\t Training Loss 0.8541\t Accuracy 0.8282\n",
      "Epoch [6][10]\t Batch [400][550]\t Training Loss 0.8526\t Accuracy 0.8292\n",
      "Epoch [6][10]\t Batch [450][550]\t Training Loss 0.8533\t Accuracy 0.8293\n",
      "Epoch [6][10]\t Batch [500][550]\t Training Loss 0.8531\t Accuracy 0.8290\n",
      "\n",
      "Epoch [6]\t Average training loss 0.8510\t Average training accuracy 0.8296\n",
      "Epoch [6]\t Average validation loss 0.7613\t Average validation accuracy 0.8766\n",
      "\n",
      "Epoch [7][10]\t Batch [0][550]\t Training Loss 0.7731\t Accuracy 0.8500\n",
      "Epoch [7][10]\t Batch [50][550]\t Training Loss 0.8128\t Accuracy 0.8425\n",
      "Epoch [7][10]\t Batch [100][550]\t Training Loss 0.8165\t Accuracy 0.8427\n",
      "Epoch [7][10]\t Batch [150][550]\t Training Loss 0.8239\t Accuracy 0.8368\n",
      "Epoch [7][10]\t Batch [200][550]\t Training Loss 0.8289\t Accuracy 0.8350\n",
      "Epoch [7][10]\t Batch [250][550]\t Training Loss 0.8262\t Accuracy 0.8361\n",
      "Epoch [7][10]\t Batch [300][550]\t Training Loss 0.8251\t Accuracy 0.8364\n",
      "Epoch [7][10]\t Batch [350][550]\t Training Loss 0.8306\t Accuracy 0.8355\n",
      "Epoch [7][10]\t Batch [400][550]\t Training Loss 0.8295\t Accuracy 0.8358\n",
      "Epoch [7][10]\t Batch [450][550]\t Training Loss 0.8306\t Accuracy 0.8358\n",
      "Epoch [7][10]\t Batch [500][550]\t Training Loss 0.8307\t Accuracy 0.8354\n",
      "\n",
      "Epoch [7]\t Average training loss 0.8291\t Average training accuracy 0.8360\n",
      "Epoch [7]\t Average validation loss 0.7435\t Average validation accuracy 0.8814\n",
      "\n",
      "Epoch [8][10]\t Batch [0][550]\t Training Loss 0.7569\t Accuracy 0.8500\n",
      "Epoch [8][10]\t Batch [50][550]\t Training Loss 0.7953\t Accuracy 0.8500\n",
      "Epoch [8][10]\t Batch [100][550]\t Training Loss 0.7998\t Accuracy 0.8482\n",
      "Epoch [8][10]\t Batch [150][550]\t Training Loss 0.8077\t Accuracy 0.8432\n",
      "Epoch [8][10]\t Batch [200][550]\t Training Loss 0.8126\t Accuracy 0.8421\n",
      "Epoch [8][10]\t Batch [250][550]\t Training Loss 0.8102\t Accuracy 0.8429\n",
      "Epoch [8][10]\t Batch [300][550]\t Training Loss 0.8094\t Accuracy 0.8429\n",
      "Epoch [8][10]\t Batch [350][550]\t Training Loss 0.8151\t Accuracy 0.8415\n",
      "Epoch [8][10]\t Batch [400][550]\t Training Loss 0.8143\t Accuracy 0.8417\n",
      "Epoch [8][10]\t Batch [450][550]\t Training Loss 0.8157\t Accuracy 0.8415\n",
      "Epoch [8][10]\t Batch [500][550]\t Training Loss 0.8161\t Accuracy 0.8410\n"
     ]
    },
    {
     "name": "stdout",
     "output_type": "stream",
     "text": [
      "\n",
      "Epoch [8]\t Average training loss 0.8147\t Average training accuracy 0.8414\n",
      "Epoch [8]\t Average validation loss 0.7321\t Average validation accuracy 0.8836\n",
      "\n",
      "Epoch [9][10]\t Batch [0][550]\t Training Loss 0.7469\t Accuracy 0.8800\n",
      "Epoch [9][10]\t Batch [50][550]\t Training Loss 0.7840\t Accuracy 0.8557\n",
      "Epoch [9][10]\t Batch [100][550]\t Training Loss 0.7890\t Accuracy 0.8531\n",
      "Epoch [9][10]\t Batch [150][550]\t Training Loss 0.7972\t Accuracy 0.8486\n",
      "Epoch [9][10]\t Batch [200][550]\t Training Loss 0.8021\t Accuracy 0.8470\n",
      "Epoch [9][10]\t Batch [250][550]\t Training Loss 0.7999\t Accuracy 0.8475\n",
      "Epoch [9][10]\t Batch [300][550]\t Training Loss 0.7992\t Accuracy 0.8474\n",
      "Epoch [9][10]\t Batch [350][550]\t Training Loss 0.8051\t Accuracy 0.8459\n",
      "Epoch [9][10]\t Batch [400][550]\t Training Loss 0.8045\t Accuracy 0.8460\n",
      "Epoch [9][10]\t Batch [450][550]\t Training Loss 0.8061\t Accuracy 0.8458\n",
      "Epoch [9][10]\t Batch [500][550]\t Training Loss 0.8066\t Accuracy 0.8455\n",
      "\n",
      "Epoch [9]\t Average training loss 0.8055\t Average training accuracy 0.8456\n",
      "Epoch [9]\t Average validation loss 0.7251\t Average validation accuracy 0.8874\n",
      "\n"
     ]
    }
   ],
   "source": [
    "reluMLP, relu_loss, relu_acc = train(reluMLP, criterion, sgd, data_train, max_epoch, batch_size, disp_freq)"
   ]
  },
  {
   "cell_type": "code",
   "execution_count": 20,
   "metadata": {},
   "outputs": [
    {
     "name": "stdout",
     "output_type": "stream",
     "text": [
      "Testing...\n",
      "The test accuracy is 0.8595.\n",
      "\n"
     ]
    }
   ],
   "source": [
    "test(reluMLP, criterion, data_test, batch_size, disp_freq)"
   ]
  },
  {
   "cell_type": "markdown",
   "metadata": {},
   "source": [
    "## Plot"
   ]
  },
  {
   "cell_type": "code",
   "execution_count": 21,
   "metadata": {},
   "outputs": [
    {
     "data": {
      "image/png": "[encoded data removed]",
      "text/plain": [
       "<Figure size 432x288 with 1 Axes>"
      ]
     },
     "metadata": {
      "needs_background": "light"
     },
     "output_type": "display_data"
    },
    {
     "data": {
      "image/png": "[encoded data removed]",
      "text/plain": [
       "<Figure size 432x288 with 1 Axes>"
      ]
     },
     "metadata": {
      "needs_background": "light"
     },
     "output_type": "display_data"
    }
   ],
   "source": [
    "plot_loss_and_acc({'Sigmoid': [sigmoid_loss, sigmoid_acc],\n",
    "                   'relu': [relu_loss, relu_acc]})"
   ]
  },
  {
   "cell_type": "markdown",
   "metadata": {},
   "source": [
    "### ~~You have finished homework2-mlp, congratulations!~~  \n",
    "\n",
    "**Next, according to the requirements 4) of report:**\n",
    "### **You need to construct a two-hidden-layer MLP, using any activation function and loss function.**\n",
    "\n",
    "**Note: Please insert some new cells blow (using '+' bottom in the toolbar) refer to above codes. Do not modify the former code directly.**"
   ]
  },
  {
   "cell_type": "code",
   "execution_count": 22,
   "metadata": {},
   "outputs": [],
   "source": [
    "# NETWORK HYPER-PARAMETERS\n",
    "batch_size = 100\n",
    "max_epoch = 10 #20\n",
    "init_std = 0.01\n",
    "\n",
    "learning_rate_SGD = 0.001 #0.001\n",
    "weight_decay = 0.1\n",
    "\n",
    "disp_freq = 50"
   ]
  },
  {
   "cell_type": "code",
   "execution_count": 23,
   "metadata": {},
   "outputs": [],
   "source": [
    "# LOSS CRITERIA\n",
    "criterion = SoftmaxCrossEntropyLossLayer()\n",
    "\n",
    "# OPTIMIZATION METHOD\n",
    "sgd = SGD(learning_rate_SGD, weight_decay)\n",
    "\n",
    "# CREATE NETWORK\n",
    "reluMLP = Network()\n",
    "reluMLP.add(FCLayer(784, 456))\n",
    "reluMLP.add(ReLULayer())\n",
    "reluMLP.add(FCLayer(456, 128))\n",
    "reluMLP.add(ReLULayer())\n",
    "reluMLP.add(FCLayer(128, 10))"
   ]
  },
  {
   "cell_type": "code",
   "execution_count": 24,
   "metadata": {
    "scrolled": true
   },
   "outputs": [
    {
     "name": "stdout",
     "output_type": "stream",
     "text": [
      "Epoch [0][10]\t Batch [0][550]\t Training Loss 2.6287\t Accuracy 0.0800\n",
      "Epoch [0][10]\t Batch [50][550]\t Training Loss 2.5262\t Accuracy 0.0859\n",
      "Epoch [0][10]\t Batch [100][550]\t Training Loss 2.4006\t Accuracy 0.1226\n",
      "Epoch [0][10]\t Batch [150][550]\t Training Loss 2.3123\t Accuracy 0.1614\n",
      "Epoch [0][10]\t Batch [200][550]\t Training Loss 2.2393\t Accuracy 0.2017\n",
      "Epoch [0][10]\t Batch [250][550]\t Training Loss 2.1759\t Accuracy 0.2395\n",
      "Epoch [0][10]\t Batch [300][550]\t Training Loss 2.1160\t Accuracy 0.2762\n",
      "Epoch [0][10]\t Batch [350][550]\t Training Loss 2.0701\t Accuracy 0.3055\n",
      "Epoch [0][10]\t Batch [400][550]\t Training Loss 2.0208\t Accuracy 0.3357\n",
      "Epoch [0][10]\t Batch [450][550]\t Training Loss 1.9799\t Accuracy 0.3608\n",
      "Epoch [0][10]\t Batch [500][550]\t Training Loss 1.9396\t Accuracy 0.3853\n",
      "\n",
      "Epoch [0]\t Average training loss 1.9005\t Average training accuracy 0.4084\n",
      "Epoch [0]\t Average validation loss 1.4369\t Average validation accuracy 0.6840\n",
      "\n",
      "Epoch [1][10]\t Batch [0][550]\t Training Loss 1.4448\t Accuracy 0.6900\n",
      "Epoch [1][10]\t Batch [50][550]\t Training Loss 1.4629\t Accuracy 0.6596\n",
      "Epoch [1][10]\t Batch [100][550]\t Training Loss 1.4339\t Accuracy 0.6719\n",
      "Epoch [1][10]\t Batch [150][550]\t Training Loss 1.4186\t Accuracy 0.6734\n",
      "Epoch [1][10]\t Batch [200][550]\t Training Loss 1.4026\t Accuracy 0.6797\n",
      "Epoch [1][10]\t Batch [250][550]\t Training Loss 1.3830\t Accuracy 0.6856\n",
      "Epoch [1][10]\t Batch [300][550]\t Training Loss 1.3625\t Accuracy 0.6928\n",
      "Epoch [1][10]\t Batch [350][550]\t Training Loss 1.3526\t Accuracy 0.6950\n",
      "Epoch [1][10]\t Batch [400][550]\t Training Loss 1.3340\t Accuracy 0.7013\n",
      "Epoch [1][10]\t Batch [450][550]\t Training Loss 1.3205\t Accuracy 0.7053\n",
      "Epoch [1][10]\t Batch [500][550]\t Training Loss 1.3057\t Accuracy 0.7091\n",
      "\n",
      "Epoch [1]\t Average training loss 1.2894\t Average training accuracy 0.7143\n",
      "Epoch [1]\t Average validation loss 1.0548\t Average validation accuracy 0.8000\n",
      "\n",
      "Epoch [2][10]\t Batch [0][550]\t Training Loss 1.0668\t Accuracy 0.8100\n",
      "Epoch [2][10]\t Batch [50][550]\t Training Loss 1.1030\t Accuracy 0.7753\n",
      "Epoch [2][10]\t Batch [100][550]\t Training Loss 1.0911\t Accuracy 0.7784\n",
      "Epoch [2][10]\t Batch [150][550]\t Training Loss 1.0891\t Accuracy 0.7752\n",
      "Epoch [2][10]\t Batch [200][550]\t Training Loss 1.0839\t Accuracy 0.7764\n",
      "Epoch [2][10]\t Batch [250][550]\t Training Loss 1.0744\t Accuracy 0.7778\n",
      "Epoch [2][10]\t Batch [300][550]\t Training Loss 1.0642\t Accuracy 0.7803\n",
      "Epoch [2][10]\t Batch [350][550]\t Training Loss 1.0636\t Accuracy 0.7798\n",
      "Epoch [2][10]\t Batch [400][550]\t Training Loss 1.0541\t Accuracy 0.7825\n",
      "Epoch [2][10]\t Batch [450][550]\t Training Loss 1.0488\t Accuracy 0.7839\n",
      "Epoch [2][10]\t Batch [500][550]\t Training Loss 1.0422\t Accuracy 0.7850\n",
      "\n",
      "Epoch [2]\t Average training loss 1.0336\t Average training accuracy 0.7866\n",
      "Epoch [2]\t Average validation loss 0.8752\t Average validation accuracy 0.8422\n",
      "\n",
      "Epoch [3][10]\t Batch [0][550]\t Training Loss 0.8938\t Accuracy 0.8400\n",
      "Epoch [3][10]\t Batch [50][550]\t Training Loss 0.9309\t Accuracy 0.8147\n",
      "Epoch [3][10]\t Batch [100][550]\t Training Loss 0.9269\t Accuracy 0.8145\n",
      "Epoch [3][10]\t Batch [150][550]\t Training Loss 0.9306\t Accuracy 0.8095\n",
      "Epoch [3][10]\t Batch [200][550]\t Training Loss 0.9296\t Accuracy 0.8102\n",
      "Epoch [3][10]\t Batch [250][550]\t Training Loss 0.9243\t Accuracy 0.8113\n",
      "Epoch [3][10]\t Batch [300][550]\t Training Loss 0.9187\t Accuracy 0.8128\n",
      "Epoch [3][10]\t Batch [350][550]\t Training Loss 0.9217\t Accuracy 0.8119\n",
      "Epoch [3][10]\t Batch [400][550]\t Training Loss 0.9163\t Accuracy 0.8136\n",
      "Epoch [3][10]\t Batch [450][550]\t Training Loss 0.9145\t Accuracy 0.8145\n",
      "Epoch [3][10]\t Batch [500][550]\t Training Loss 0.9116\t Accuracy 0.8150\n",
      "\n",
      "Epoch [3]\t Average training loss 0.9064\t Average training accuracy 0.8159\n",
      "Epoch [3]\t Average validation loss 0.7825\t Average validation accuracy 0.8638\n",
      "\n",
      "Epoch [4][10]\t Batch [0][550]\t Training Loss 0.8062\t Accuracy 0.8500\n",
      "Epoch [4][10]\t Batch [50][550]\t Training Loss 0.8406\t Accuracy 0.8376\n",
      "Epoch [4][10]\t Batch [100][550]\t Training Loss 0.8405\t Accuracy 0.8354\n",
      "Epoch [4][10]\t Batch [150][550]\t Training Loss 0.8466\t Accuracy 0.8297\n",
      "Epoch [4][10]\t Batch [200][550]\t Training Loss 0.8475\t Accuracy 0.8295\n",
      "Epoch [4][10]\t Batch [250][550]\t Training Loss 0.8439\t Accuracy 0.8302\n",
      "Epoch [4][10]\t Batch [300][550]\t Training Loss 0.8405\t Accuracy 0.8310\n",
      "Epoch [4][10]\t Batch [350][550]\t Training Loss 0.8452\t Accuracy 0.8297\n",
      "Epoch [4][10]\t Batch [400][550]\t Training Loss 0.8419\t Accuracy 0.8314\n",
      "Epoch [4][10]\t Batch [450][550]\t Training Loss 0.8417\t Accuracy 0.8316\n",
      "Epoch [4][10]\t Batch [500][550]\t Training Loss 0.8405\t Accuracy 0.8316\n",
      "\n",
      "Epoch [4]\t Average training loss 0.8372\t Average training accuracy 0.8321\n",
      "Epoch [4]\t Average validation loss 0.7312\t Average validation accuracy 0.8762\n",
      "\n",
      "Epoch [5][10]\t Batch [0][550]\t Training Loss 0.7581\t Accuracy 0.8600\n",
      "Epoch [5][10]\t Batch [50][550]\t Training Loss 0.7900\t Accuracy 0.8524\n",
      "Epoch [5][10]\t Batch [100][550]\t Training Loss 0.7920\t Accuracy 0.8470\n",
      "Epoch [5][10]\t Batch [150][550]\t Training Loss 0.7993\t Accuracy 0.8425\n",
      "Epoch [5][10]\t Batch [200][550]\t Training Loss 0.8010\t Accuracy 0.8418\n",
      "Epoch [5][10]\t Batch [250][550]\t Training Loss 0.7984\t Accuracy 0.8423\n",
      "Epoch [5][10]\t Batch [300][550]\t Training Loss 0.7962\t Accuracy 0.8431\n",
      "Epoch [5][10]\t Batch [350][550]\t Training Loss 0.8018\t Accuracy 0.8414\n",
      "Epoch [5][10]\t Batch [400][550]\t Training Loss 0.7995\t Accuracy 0.8426\n",
      "Epoch [5][10]\t Batch [450][550]\t Training Loss 0.8003\t Accuracy 0.8426\n",
      "Epoch [5][10]\t Batch [500][550]\t Training Loss 0.8001\t Accuracy 0.8423\n",
      "\n",
      "Epoch [5]\t Average training loss 0.7978\t Average training accuracy 0.8423\n",
      "Epoch [5]\t Average validation loss 0.7025\t Average validation accuracy 0.8840\n",
      "\n",
      "Epoch [6][10]\t Batch [0][550]\t Training Loss 0.7309\t Accuracy 0.8600\n",
      "Epoch [6][10]\t Batch [50][550]\t Training Loss 0.7610\t Accuracy 0.8612\n",
      "Epoch [6][10]\t Batch [100][550]\t Training Loss 0.7644\t Accuracy 0.8556\n",
      "Epoch [6][10]\t Batch [150][550]\t Training Loss 0.7723\t Accuracy 0.8505\n",
      "Epoch [6][10]\t Batch [200][550]\t Training Loss 0.7745\t Accuracy 0.8498\n",
      "Epoch [6][10]\t Batch [250][550]\t Training Loss 0.7724\t Accuracy 0.8503\n",
      "Epoch [6][10]\t Batch [300][550]\t Training Loss 0.7710\t Accuracy 0.8508\n",
      "Epoch [6][10]\t Batch [350][550]\t Training Loss 0.7769\t Accuracy 0.8496\n",
      "Epoch [6][10]\t Batch [400][550]\t Training Loss 0.7754\t Accuracy 0.8503\n",
      "Epoch [6][10]\t Batch [450][550]\t Training Loss 0.7767\t Accuracy 0.8503\n",
      "Epoch [6][10]\t Batch [500][550]\t Training Loss 0.7771\t Accuracy 0.8497\n",
      "\n",
      "Epoch [6]\t Average training loss 0.7754\t Average training accuracy 0.8495\n",
      "Epoch [6]\t Average validation loss 0.6871\t Average validation accuracy 0.8904\n",
      "\n",
      "Epoch [7][10]\t Batch [0][550]\t Training Loss 0.7165\t Accuracy 0.8800\n",
      "Epoch [7][10]\t Batch [50][550]\t Training Loss 0.7451\t Accuracy 0.8641\n",
      "Epoch [7][10]\t Batch [100][550]\t Training Loss 0.7492\t Accuracy 0.8604\n",
      "Epoch [7][10]\t Batch [150][550]\t Training Loss 0.7574\t Accuracy 0.8550\n",
      "Epoch [7][10]\t Batch [200][550]\t Training Loss 0.7600\t Accuracy 0.8539\n",
      "Epoch [7][10]\t Batch [250][550]\t Training Loss 0.7581\t Accuracy 0.8544\n",
      "Epoch [7][10]\t Batch [300][550]\t Training Loss 0.7572\t Accuracy 0.8552\n",
      "Epoch [7][10]\t Batch [350][550]\t Training Loss 0.7634\t Accuracy 0.8539\n",
      "Epoch [7][10]\t Batch [400][550]\t Training Loss 0.7624\t Accuracy 0.8547\n",
      "Epoch [7][10]\t Batch [450][550]\t Training Loss 0.7639\t Accuracy 0.8545\n",
      "Epoch [7][10]\t Batch [500][550]\t Training Loss 0.7647\t Accuracy 0.8541\n",
      "\n",
      "Epoch [7]\t Average training loss 0.7635\t Average training accuracy 0.8538\n",
      "Epoch [7]\t Average validation loss 0.6800\t Average validation accuracy 0.8950\n",
      "\n",
      "Epoch [8][10]\t Batch [0][550]\t Training Loss 0.7105\t Accuracy 0.8900\n",
      "Epoch [8][10]\t Batch [50][550]\t Training Loss 0.7371\t Accuracy 0.8684\n",
      "Epoch [8][10]\t Batch [100][550]\t Training Loss 0.7417\t Accuracy 0.8645\n",
      "Epoch [8][10]\t Batch [150][550]\t Training Loss 0.7501\t Accuracy 0.8587\n",
      "Epoch [8][10]\t Batch [200][550]\t Training Loss 0.7529\t Accuracy 0.8580\n",
      "Epoch [8][10]\t Batch [250][550]\t Training Loss 0.7512\t Accuracy 0.8584\n",
      "Epoch [8][10]\t Batch [300][550]\t Training Loss 0.7507\t Accuracy 0.8590\n",
      "Epoch [8][10]\t Batch [350][550]\t Training Loss 0.7570\t Accuracy 0.8576\n",
      "Epoch [8][10]\t Batch [400][550]\t Training Loss 0.7562\t Accuracy 0.8583\n",
      "Epoch [8][10]\t Batch [450][550]\t Training Loss 0.7580\t Accuracy 0.8580\n",
      "Epoch [8][10]\t Batch [500][550]\t Training Loss 0.7590\t Accuracy 0.8573\n"
     ]
    },
    {
     "name": "stdout",
     "output_type": "stream",
     "text": [
      "\n",
      "Epoch [8]\t Average training loss 0.7580\t Average training accuracy 0.8570\n",
      "Epoch [8]\t Average validation loss 0.6781\t Average validation accuracy 0.8972\n",
      "\n",
      "Epoch [9][10]\t Batch [0][550]\t Training Loss 0.7091\t Accuracy 0.8900\n",
      "Epoch [9][10]\t Batch [50][550]\t Training Loss 0.7343\t Accuracy 0.8702\n",
      "Epoch [9][10]\t Batch [100][550]\t Training Loss 0.7392\t Accuracy 0.8666\n",
      "Epoch [9][10]\t Batch [150][550]\t Training Loss 0.7477\t Accuracy 0.8610\n",
      "Epoch [9][10]\t Batch [200][550]\t Training Loss 0.7507\t Accuracy 0.8600\n",
      "Epoch [9][10]\t Batch [250][550]\t Training Loss 0.7490\t Accuracy 0.8605\n",
      "Epoch [9][10]\t Batch [300][550]\t Training Loss 0.7488\t Accuracy 0.8612\n",
      "Epoch [9][10]\t Batch [350][550]\t Training Loss 0.7551\t Accuracy 0.8600\n",
      "Epoch [9][10]\t Batch [400][550]\t Training Loss 0.7546\t Accuracy 0.8605\n",
      "Epoch [9][10]\t Batch [450][550]\t Training Loss 0.7565\t Accuracy 0.8602\n",
      "Epoch [9][10]\t Batch [500][550]\t Training Loss 0.7576\t Accuracy 0.8594\n",
      "\n",
      "Epoch [9]\t Average training loss 0.7569\t Average training accuracy 0.8591\n",
      "Epoch [9]\t Average validation loss 0.6797\t Average validation accuracy 0.8988\n",
      "\n"
     ]
    }
   ],
   "source": [
    "# TRAIN NETWORK\n",
    "reluMLP, relu_loss, relu_acc = train(reluMLP, criterion, sgd, data_train, max_epoch, batch_size, disp_freq)"
   ]
  },
  {
   "cell_type": "code",
   "execution_count": 25,
   "metadata": {},
   "outputs": [
    {
     "name": "stdout",
     "output_type": "stream",
     "text": [
      "Testing...\n",
      "The test accuracy is 0.8728.\n",
      "\n"
     ]
    }
   ],
   "source": [
    "# TEST NETWORK\n",
    "test(reluMLP, criterion, data_test, batch_size, disp_freq)"
   ]
  },
  {
   "cell_type": "code",
   "execution_count": null,
   "metadata": {},
   "outputs": [],
   "source": []
  }
 ],
 "metadata": {
  "kernelspec": {
   "display_name": "Python 3",
   "language": "python",
   "name": "python3"
  },
  "language_info": {
   "codemirror_mode": {
    "name": "ipython",
    "version": 3
   },
   "file_extension": ".py",
   "mimetype": "text/x-python",
   "name": "python",
   "nbconvert_exporter": "python",
   "pygments_lexer": "ipython3",
   "version": "3.7.6"
  }
 },
 "nbformat": 4,
 "nbformat_minor": 2
}
